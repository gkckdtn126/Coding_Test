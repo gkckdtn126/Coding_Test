{
 "cells": [
  {
   "cell_type": "code",
   "execution_count": null,
   "id": "905097ce",
   "metadata": {},
   "outputs": [],
   "source": [
    "def solution(n, computers):\n",
    "    answer = 0\n",
    "    visited = [False for i in range(n)]\n",
    "    for com in range(n):\n",
    "        if visited[com] == False:\n",
    "            DFS(n, computers, com, visited)\n",
    "            answer += 1 #DFS로 최대한 컴퓨터들을 방문하고 빠져나오게 되면 그것이 하나의 네트워크.\n",
    "    return answer\n",
    "\n",
    "def DFS(n, computers, com, visited):\n",
    "    visited[com] = True\n",
    "    for connect in range(n):\n",
    "        if connect != com and computers[com][connect] == 1: #연결된 컴퓨터\n",
    "            if visited[connect] == False:\n",
    "                DFS(n, computers, connect, visited)"
   ]
  },
  {
   "cell_type": "code",
   "execution_count": 187,
   "id": "fef45922",
   "metadata": {},
   "outputs": [
    {
     "name": "stdout",
     "output_type": "stream",
     "text": [
      "[[1, 1, 0], [1, 1, 0], [0, 0, 1], [2], []]\n"
     ]
    }
   ],
   "source": [
    "computer1 = [[1, 1, 0], [1, 1, 0], [0, 0, 1],[2]]\n",
    "computer1.append([])\n",
    "print(computer1)"
   ]
  },
  {
   "cell_type": "code",
   "execution_count": 185,
   "id": "b7857b5c",
   "metadata": {},
   "outputs": [],
   "source": [
    "computers = [[1, 1, 0], [1, 1, 0], [0, 0, 1]]\n",
    "n = 3"
   ]
  },
  {
   "cell_type": "code",
   "execution_count": 193,
   "id": "bde51183",
   "metadata": {},
   "outputs": [
    {
     "data": {
      "text/plain": [
       "2"
      ]
     },
     "execution_count": 193,
     "metadata": {},
     "output_type": "execute_result"
    }
   ],
   "source": [
    "def dfs(n,graph, v, visited):\n",
    "    answer = 0\n",
    "    visited[v] = True\n",
    "    for i in graph[v]:\n",
    "        if not visited[i]:\n",
    "            dfs(n, graph, i, visited)\n",
    "def solution(n, computers):\n",
    "    answer = 0\n",
    "    total_graph = [[]]\n",
    "    for node in range(len(computers)):\n",
    "        graph = []\n",
    "        for j in range(len(computers[node])):\n",
    "            if node != j:\n",
    "                if computers[node][j] == 1:\n",
    "                    graph.append(j+1)\n",
    "        if len(graph) == 0:\n",
    "            graph.append(0)\n",
    "        if len(graph) != 0:\n",
    "            total_graph.append(graph)\n",
    "    visited = [False]*(n+1)\n",
    "    visited[0] =True\n",
    "    for i in range(1,n+1):\n",
    "        if visited[i] == False:\n",
    "            dfs(n,total_graph,i,visited)\n",
    "            answer += 1\n",
    "    return answer\n",
    "solution(n, computers)"
   ]
  },
  {
   "cell_type": "code",
   "execution_count": null,
   "id": "2a585a0f",
   "metadata": {},
   "outputs": [],
   "source": []
  }
 ],
 "metadata": {
  "kernelspec": {
   "display_name": "Python 3 (ipykernel)",
   "language": "python",
   "name": "python3"
  },
  "language_info": {
   "codemirror_mode": {
    "name": "ipython",
    "version": 3
   },
   "file_extension": ".py",
   "mimetype": "text/x-python",
   "name": "python",
   "nbconvert_exporter": "python",
   "pygments_lexer": "ipython3",
   "version": "3.9.12"
  }
 },
 "nbformat": 4,
 "nbformat_minor": 5
}
