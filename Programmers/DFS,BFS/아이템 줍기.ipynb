{
 "cells": [
  {
   "cell_type": "code",
   "execution_count": 6,
   "id": "2ccb21ba",
   "metadata": {},
   "outputs": [],
   "source": [
    "rectangle = [[1,1,7,4],[3,2,5,5],[4,3,6,9],[2,6,8,8]]\n",
    "characterX = 1\n",
    "characterY = 3\n",
    "itemX = 7\n",
    "itemY = 8"
   ]
  },
  {
   "cell_type": "code",
   "execution_count": null,
   "id": "ee8d4027",
   "metadata": {},
   "outputs": [],
   "source": [
    "from collections import deque\n",
    "def solution(rectangle, characterX, characterY, itemX, itemY):\n",
    "    for rec in rectangle:\n",
    "        rec[0] *=2\n",
    "        rec[1] *=2\n",
    "        rec[2] *=2\n",
    "        rec[3] *=2\n",
    "    characterX *=2\n",
    "    characterY *=2\n",
    "    itemX *= 2\n",
    "    itemY *= 2\n",
    "    visited = [[0]*101 for _ in range(101)]\n",
    "    answer = 202\n",
    "    # U D R L\n",
    "    moves = [(0,1),(0,-1),(1,0),(-1,0)]\n",
    "    q = deque([(characterX,characterY,0)])\n",
    "    visited[characterX][characterY] = 1\n",
    "    checking_rec = [0 for _ in range(len(rectangle))]\n",
    "\n",
    "    while q:\n",
    "        x, y, cnt = q.popleft()\n",
    "        if (x,y) == (itemX,itemY) and answer > cnt:\n",
    "            answer = cnt\n",
    "        for move in moves:\n",
    "            dx, dy = move\n",
    "            next_x = x + dx\n",
    "            next_y = y + dy\n",
    "            if not (1<=next_x<=100 and 1<=next_y<=100):\n",
    "                # 좌표 범위를 벗어난다면\n",
    "                continue\n",
    "            if visited[next_x][next_y] == 1:\n",
    "                # 방문한 적이 있다면\n",
    "                continue\n",
    "            for i,rec in enumerate(rectangle):\n",
    "                s_x, s_y, e_x, e_y = rec\n",
    "                # 좌표가 직사각형 바깥으로 나갔다면\n",
    "                if (next_x < s_x or next_x > e_x) or (next_y < s_y or next_y > e_y):\n",
    "                    # 일단 여기선 문제가 안되는데, 모두 다 안되면 X\n",
    "                    checking_rec[i] = -1\n",
    "                    continue\n",
    "                # 좌표가 직사각형 중앙에 있다면\n",
    "                if (s_x < next_x < e_x) and (s_y < next_y < e_y):\n",
    "                    checking_rec[i] = -2\n",
    "                    break\n",
    "                checking_rec[i] = 1\n",
    "            if -2 in checking_rec or 1 not in checking_rec:\n",
    "                continue\n",
    "            visited[next_x][next_y] = 1\n",
    "            q.append((next_x,next_y,cnt+1))\n",
    "    return answer//2\n",
    " "
   ]
  },
  {
   "cell_type": "code",
   "execution_count": 7,
   "id": "8a2dbb33",
   "metadata": {},
   "outputs": [],
   "source": [
    "from collections import deque\n",
    "\n",
    "def solution(rectangle, characterX, characterY, itemX, itemY):\n",
    "    answer = 0\n",
    "    \n",
    "    # 제한사항에서 모든 좌표값은 1 이상 50 이하라고 했고 2배의 좌표를 그려야 하므로 102*102 크기의 2차원 배열 선언\n",
    "    field = [[-1] * 102 for i in range(102)]\n",
    "    \n",
    "    # 직사각형 그리기\n",
    "    for r in rectangle:\n",
    "    \t# 모든 좌표값 2배\n",
    "        x1, y1, x2, y2 = map(lambda x: x*2, r)\n",
    "        # x1부터 x2, y1부터 y2까지 순회\n",
    "        for i in range(x1, x2+1):\n",
    "            for j in range(y1, y2+1):\n",
    "            \t# x1, x2, y1, y2는 테두리이므로 제외하고 내부만 0으로 채움\n",
    "                if x1 < i < x2 and y1 < j < y2:\n",
    "                    field[i][j] = 0\n",
    "                # 다른 직사각형의 내부가 아니면서 테두리일 때 1로 채움\n",
    "                elif field[i][j] != 0:\n",
    "                    field[i][j] = 1\n",
    "                    \n",
    "    dx = [-1, 1, 0, 0]\n",
    "    dy = [0, 0, -1, 1]\n",
    "    \n",
    "    # 큐에 캐릭터 출발지점 추가 & 최단거리를 적어줄 visited 배열 선언\n",
    "    q = deque()\n",
    "    q.append([characterX * 2, characterY * 2])\n",
    "    visited = [[1] * 102 for i in range(102)]\n",
    "    \n",
    "    while q:\n",
    "        x, y = q.popleft()\n",
    "        # 도착한 곳이 아이템이 있는 장소라면 현재의 최단거리(나누기 2)를 answer로 하고 while문을 빠져나옴\n",
    "        if x == itemX * 2 and y == itemY * 2:\n",
    "            answer = visited[x][y] // 2\n",
    "            break\n",
    "        # 아니라면 상하좌우 네 방향을 체크하면서\n",
    "        for k in range(4):\n",
    "            nx = x + dx[k]\n",
    "            ny = y + dy[k]\n",
    "            # 현재 좌표가 테두리이고 아직 방문하지 않은 곳이라면 q에 추가 후 visited 최단거리로 갱신\n",
    "            if field[nx][ny] == 1 and visited[nx][ny] == 1:\n",
    "                q.append([nx, ny])\n",
    "                visited[nx][ny] = visited[x][y] + 1\n",
    "    \n",
    "    return answer"
   ]
  },
  {
   "cell_type": "code",
   "execution_count": 8,
   "id": "fd200b83",
   "metadata": {},
   "outputs": [
    {
     "data": {
      "text/plain": [
       "17"
      ]
     },
     "execution_count": 8,
     "metadata": {},
     "output_type": "execute_result"
    }
   ],
   "source": [
    "solution(rectangle, characterX, characterY, itemX, itemY)"
   ]
  },
  {
   "cell_type": "code",
   "execution_count": null,
   "id": "d9fae763",
   "metadata": {},
   "outputs": [],
   "source": []
  }
 ],
 "metadata": {
  "kernelspec": {
   "display_name": "Python 3 (ipykernel)",
   "language": "python",
   "name": "python3"
  },
  "language_info": {
   "codemirror_mode": {
    "name": "ipython",
    "version": 3
   },
   "file_extension": ".py",
   "mimetype": "text/x-python",
   "name": "python",
   "nbconvert_exporter": "python",
   "pygments_lexer": "ipython3",
   "version": "3.9.12"
  }
 },
 "nbformat": 4,
 "nbformat_minor": 5
}
