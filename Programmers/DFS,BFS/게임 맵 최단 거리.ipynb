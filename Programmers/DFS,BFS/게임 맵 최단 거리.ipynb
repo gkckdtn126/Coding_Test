{
 "cells": [
  {
   "cell_type": "markdown",
   "id": "96aee258",
   "metadata": {},
   "source": [
    "# BFS 문제, 만약에 적진영으로 못가면 return -1"
   ]
  },
  {
   "cell_type": "code",
   "execution_count": 27,
   "id": "ecf301c3",
   "metadata": {},
   "outputs": [],
   "source": [
    "maps = [[1,0,1,1,1],[1,0,1,0,1],[1,0,1,1,1],[1,1,1,0,1],[0,0,0,0,1]]"
   ]
  },
  {
   "cell_type": "code",
   "execution_count": 21,
   "id": "9ee054f0",
   "metadata": {},
   "outputs": [],
   "source": [
    "maps = [[1,0,1,1,1],[1,0,1,0,1],[1,0,1,1,1],[1,1,1,0,0],[0,0,0,0,1]]"
   ]
  },
  {
   "cell_type": "code",
   "execution_count": 11,
   "id": "9a525653",
   "metadata": {},
   "outputs": [],
   "source": [
    "m = len(maps[0])\n",
    "n = len(maps)"
   ]
  },
  {
   "cell_type": "code",
   "execution_count": 22,
   "id": "f8118db6",
   "metadata": {},
   "outputs": [],
   "source": [
    "def bfs(x,y):\n",
    "    que = deque()\n",
    "    que.append((x,y))\n",
    "    while que:\n",
    "        x,y = que.popleft()\n",
    "        for i in range(4):\n",
    "            nx = x + dx[i]\n",
    "            ny = y + dy[i]\n",
    "            if nx <0 or nx>=n or ny<0 or ny>=m:\n",
    "                continue\n",
    "            if maps[nx][ny] == 0:\n",
    "                continue\n",
    "            if maps[nx][ny] == 1:\n",
    "                maps[nx][ny] = maps[x][y] +1\n",
    "                que.append((nx,ny))\n",
    "    return maps[n-1][m-1]\n",
    "                "
   ]
  },
  {
   "cell_type": "code",
   "execution_count": 25,
   "id": "1c1dd46b",
   "metadata": {},
   "outputs": [],
   "source": [
    "from collections import deque\n",
    "\n",
    "dx = [-1,1,0,0]\n",
    "dy = [0,0,-1,1]\n",
    "\n",
    "def solution(maps):\n",
    "    m = len(maps[0])\n",
    "    n = len(maps)\n",
    "    answer = 0\n",
    "    if maps[n-1][m-1] != 1:\n",
    "        answer = bfs(0,0)\n",
    "    else:\n",
    "        answer = -1\n",
    "    return answer"
   ]
  },
  {
   "cell_type": "code",
   "execution_count": 26,
   "id": "6be4d9cd",
   "metadata": {},
   "outputs": [
    {
     "data": {
      "text/plain": [
       "-1"
      ]
     },
     "execution_count": 26,
     "metadata": {},
     "output_type": "execute_result"
    }
   ],
   "source": [
    "solution(maps)"
   ]
  },
  {
   "cell_type": "code",
   "execution_count": 32,
   "id": "51e909d2",
   "metadata": {},
   "outputs": [],
   "source": [
    "def bfs(x,y):\n",
    "    que = deque()\n",
    "    que.append((x,y))\n",
    "    while que:\n",
    "        x,y = que.popleft()\n",
    "        for i in range(4):\n",
    "            nx = x + dx[i]\n",
    "            ny = y + dy[i]\n",
    "            if nx <0 or nx>=n or ny<0 or ny>=m:\n",
    "                continue\n",
    "            if maps[nx][ny] == 0:\n",
    "                continue\n",
    "            if maps[nx][ny] == 1:\n",
    "                maps[nx][ny] = maps[x][y] +1\n",
    "                que.append((nx,ny))\n",
    "    return maps[n-1][m-1]\n",
    "from collections import deque\n",
    "\n",
    "dx = [-1,1,0,0]\n",
    "dy = [0,0,-1,1]\n",
    "\n",
    "def solution(maps):\n",
    "    m = len(maps[0])\n",
    "    n = len(maps)\n",
    "    answer = 0\n",
    "    if bfs(0,0) != 1:\n",
    "        answer = bfs(0,0)\n",
    "    if bfs(0,0) == 1:\n",
    "        answer = -1\n",
    "    return answer"
   ]
  },
  {
   "cell_type": "code",
   "execution_count": 33,
   "id": "da4ab144",
   "metadata": {},
   "outputs": [
    {
     "data": {
      "text/plain": [
       "11"
      ]
     },
     "execution_count": 33,
     "metadata": {},
     "output_type": "execute_result"
    }
   ],
   "source": [
    "solution(maps)"
   ]
  },
  {
   "cell_type": "code",
   "execution_count": 38,
   "id": "65eb4344",
   "metadata": {},
   "outputs": [],
   "source": [
    "def bfs(x,y,n,m,maps):\n",
    "    que = deque()\n",
    "    que.append((x,y))\n",
    "    while que:\n",
    "        x,y = que.popleft()\n",
    "        for i in range(4):\n",
    "            nx = x + dx[i]\n",
    "            ny = y + dy[i]\n",
    "            if nx <0 or nx>=n or ny<0 or ny>=m:\n",
    "                continue\n",
    "            if maps[nx][ny] == 0:\n",
    "                continue\n",
    "            if maps[nx][ny] == 1:\n",
    "                maps[nx][ny] = maps[x][y] +1\n",
    "                que.append((nx,ny))\n",
    "    return maps[n-1][m-1]\n",
    "from collections import deque\n",
    "\n",
    "dx = [-1,1,0,0]\n",
    "dy = [0,0,-1,1]\n",
    "\n",
    "def solution(maps):\n",
    "    m = len(maps[0])\n",
    "    n = len(maps)\n",
    "    answer = 0\n",
    "    if bfs(0,0,n,m,maps) != 1:\n",
    "        answer = bfs(0,0,n,m,maps)\n",
    "    if bfs(0,0,n,m,maps) == 1:\n",
    "        answer = -1\n",
    "    return answer"
   ]
  },
  {
   "cell_type": "code",
   "execution_count": 39,
   "id": "78ee52d1",
   "metadata": {},
   "outputs": [
    {
     "data": {
      "text/plain": [
       "11"
      ]
     },
     "execution_count": 39,
     "metadata": {},
     "output_type": "execute_result"
    }
   ],
   "source": [
    "solution(maps)"
   ]
  },
  {
   "cell_type": "code",
   "execution_count": null,
   "id": "242a9b20",
   "metadata": {},
   "outputs": [],
   "source": []
  }
 ],
 "metadata": {
  "kernelspec": {
   "display_name": "Python 3 (ipykernel)",
   "language": "python",
   "name": "python3"
  },
  "language_info": {
   "codemirror_mode": {
    "name": "ipython",
    "version": 3
   },
   "file_extension": ".py",
   "mimetype": "text/x-python",
   "name": "python",
   "nbconvert_exporter": "python",
   "pygments_lexer": "ipython3",
   "version": "3.9.12"
  }
 },
 "nbformat": 4,
 "nbformat_minor": 5
}
