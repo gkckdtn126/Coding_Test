{
 "cells": [
  {
   "cell_type": "code",
   "execution_count": 6,
   "id": "769e1608",
   "metadata": {},
   "outputs": [
    {
     "data": {
      "text/plain": [
       "4"
      ]
     },
     "execution_count": 6,
     "metadata": {},
     "output_type": "execute_result"
    }
   ],
   "source": [
    "begin = \"hit\"\n",
    "target = \"cog\"\n",
    "words = [\"hot\", \"dot\", \"dog\", \"lot\", \"log\", \"cog\"]\n",
    "\n",
    "from collections import deque\n",
    "\n",
    "def solution(begin, target, words):\n",
    "    answer = 0\n",
    "    q = deque()\n",
    "    q.append([begin,0])\n",
    "    V = [False]*len(words)\n",
    "    while q:\n",
    "        word,num = q.popleft()\n",
    "        if word == target:\n",
    "            answer = num\n",
    "            break\n",
    "        for i in range(len(words)):\n",
    "            temp_num = 0\n",
    "            if not V[i]:\n",
    "                for j in range(len(word)):\n",
    "                    if word[j] != words[i][j]:\n",
    "                        temp_num += 1\n",
    "                if temp_num == 1:\n",
    "                    q.append([words[i],num+1])\n",
    "                    V[i] = True\n",
    "    return answer\n",
    "\n",
    "solution(begin, target, words)                   \n",
    "    "
   ]
  },
  {
   "cell_type": "code",
   "execution_count": null,
   "id": "d20444c0",
   "metadata": {},
   "outputs": [],
   "source": []
  }
 ],
 "metadata": {
  "kernelspec": {
   "display_name": "Python 3 (ipykernel)",
   "language": "python",
   "name": "python3"
  },
  "language_info": {
   "codemirror_mode": {
    "name": "ipython",
    "version": 3
   },
   "file_extension": ".py",
   "mimetype": "text/x-python",
   "name": "python",
   "nbconvert_exporter": "python",
   "pygments_lexer": "ipython3",
   "version": "3.9.12"
  }
 },
 "nbformat": 4,
 "nbformat_minor": 5
}
