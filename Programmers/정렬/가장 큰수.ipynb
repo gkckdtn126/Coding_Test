{
 "cells": [
  {
   "cell_type": "code",
   "execution_count": 41,
   "id": "06052ff3",
   "metadata": {},
   "outputs": [
    {
     "data": {
      "text/plain": [
       "'0'"
      ]
     },
     "execution_count": 41,
     "metadata": {},
     "output_type": "execute_result"
    }
   ],
   "source": [
    "numbers = [0, 0, 0, 0]\n",
    "def solution(numbers):\n",
    "    answer = ''\n",
    "    numbers_str = [str(num) for num in numbers]\n",
    "    numbers_str.sort(key=lambda num: num*3, reverse=True)\n",
    "    #3자리 수이므로 3번 반복한다. \n",
    "    answer = ''.join(numbers_str)\n",
    "    return  f\"{int(answer)}\"\n",
    "solution(numbers)"
   ]
  },
  {
   "cell_type": "code",
   "execution_count": null,
   "id": "c8f99d77",
   "metadata": {},
   "outputs": [],
   "source": []
  }
 ],
 "metadata": {
  "kernelspec": {
   "display_name": "Python 3 (ipykernel)",
   "language": "python",
   "name": "python3"
  },
  "language_info": {
   "codemirror_mode": {
    "name": "ipython",
    "version": 3
   },
   "file_extension": ".py",
   "mimetype": "text/x-python",
   "name": "python",
   "nbconvert_exporter": "python",
   "pygments_lexer": "ipython3",
   "version": "3.9.12"
  }
 },
 "nbformat": 4,
 "nbformat_minor": 5
}
