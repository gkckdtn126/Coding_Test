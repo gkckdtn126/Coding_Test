{
 "cells": [
  {
   "cell_type": "markdown",
   "id": "b6cd4cd7",
   "metadata": {},
   "source": [
    "# 정렬"
   ]
  },
  {
   "cell_type": "markdown",
   "id": "17db666f",
   "metadata": {},
   "source": [
    "### 정렬이란 데이터를 특정한 기준에 따라 순서대로 나열하는 것을 말한다.\n",
    "### 일반적으로 문제 상황에 따라서 적절한 정렬 알고리즘이 공식처럼 사용된다"
   ]
  },
  {
   "cell_type": "markdown",
   "id": "0848a3ba",
   "metadata": {},
   "source": [
    "### 선택 정렬\n",
    "#### 처리되지 않은 데이터 중에서 가장 작은 데이터를 선택해 맨 앞에 있는 데이터와 바꾸는 것을 반복 "
   ]
  },
  {
   "cell_type": "code",
   "execution_count": 6,
   "id": "76bc4f3f",
   "metadata": {},
   "outputs": [
    {
     "name": "stdout",
     "output_type": "stream",
     "text": [
      "[0, 1, 2, 3, 4, 5, 6, 7, 8, 9]\n"
     ]
    }
   ],
   "source": [
    "array = [7,5,9,0,3,1,6,2,4,8]\n",
    "for i in range(len(array)):\n",
    "    min_index = i\n",
    "    for j in range(i+1, len(array)):\n",
    "        if array[min_index]> array[j]:\n",
    "            min_index = j\n",
    "    array[i],array[min_index] = array[min_index],array[i]\n",
    "print(array)"
   ]
  },
  {
   "cell_type": "markdown",
   "id": "cfe1f34d",
   "metadata": {},
   "source": [
    "### 삽입정렬"
   ]
  },
  {
   "cell_type": "markdown",
   "id": "5cebc5f4",
   "metadata": {},
   "source": [
    "#### 처리되지 않은 데이터를 하나씩 골라 적절한 위치에 삽입한다\n",
    "#### 선택 정렬에 비해 구현 난이도가 높은 편이지만, 일반적으로 더 효율적으로 동작한다\n"
   ]
  },
  {
   "cell_type": "code",
   "execution_count": 7,
   "id": "d967c8a6",
   "metadata": {},
   "outputs": [
    {
     "name": "stdout",
     "output_type": "stream",
     "text": [
      "[0, 1, 2, 3, 4, 5, 6, 7, 8, 9]\n"
     ]
    }
   ],
   "source": [
    "for i in range(1,len(array)):\n",
    "    for j in range(i, 0, -1):\n",
    "        if array[j] < array[j-1]:\n",
    "            array[j],array[j-1] = array[j-1],array[j]\n",
    "        else:\n",
    "            break\n",
    "print(array)"
   ]
  },
  {
   "cell_type": "markdown",
   "id": "71d06d32",
   "metadata": {},
   "source": [
    "### 퀵 정렬"
   ]
  },
  {
   "cell_type": "markdown",
   "id": "099b6444",
   "metadata": {},
   "source": [
    "#### 기준 데이터를 설정하고 기준보다 큰 데이터와 작은 데이터의 위치를 바꾸는 방법\n",
    "#### 첫번째 데이터를 기준 데이터(Pivot)로 설정한다\n"
   ]
  },
  {
   "cell_type": "code",
   "execution_count": 9,
   "id": "1276345e",
   "metadata": {},
   "outputs": [
    {
     "name": "stdout",
     "output_type": "stream",
     "text": [
      "[0, 1, 2, 3, 4, 5, 6, 7, 8, 9]\n"
     ]
    }
   ],
   "source": [
    "def quick_sort(array,start,end):\n",
    "    if start >= end:\n",
    "        return\n",
    "    pivot = start\n",
    "    left = start +1\n",
    "    right = end\n",
    "    while(left <=right):\n",
    "        while(left <= end and array[left] <= array[pivot]):\n",
    "            left += 1\n",
    "        while(right > start and array[right]>= array[pivot]):\n",
    "            right -= 1\n",
    "        if (left>right):\n",
    "            array[right],array[pivot] = array[pivot],array[right]\n",
    "        else:\n",
    "            array[left],array[right] = array[right],array[left]\n",
    "    quick_sort(array, start, right -1)\n",
    "    quick_sort(array, right+1, end)\n",
    "quick_sort(array,0, len(array)-1)\n",
    "print(array)"
   ]
  },
  {
   "cell_type": "markdown",
   "id": "139f4208",
   "metadata": {},
   "source": [
    "### 계수 정렬"
   ]
  },
  {
   "cell_type": "markdown",
   "id": "bbbdc8c0",
   "metadata": {},
   "source": [
    "#### 특정한 조건이 부합할 때만 사용할 수 있지만 매우 빠르게 동작하는 정렬 알고리즘\n",
    "#### 데이터의 크기 범위가 제한되어 정수 형태로 표현할 수 있을 때 사용가능\n",
    "#### 데이터 중 최댓값이 K일 때 수행시간 O(N+K)를 보장"
   ]
  },
  {
   "cell_type": "code",
   "execution_count": 13,
   "id": "4def1d5a",
   "metadata": {},
   "outputs": [
    {
     "name": "stdout",
     "output_type": "stream",
     "text": [
      "001122345567899"
     ]
    }
   ],
   "source": [
    "array = [7,5,9,0,3,1,6,2,9,1,4,8,0,5,2]\n",
    "count = [0]*(max(array)+1)\n",
    "for i in range(len(array)):\n",
    "    count[array[i]] += 1\n",
    "for i in range(len(count)):\n",
    "    for j in range(count[i]):\n",
    "        print(i, end='')"
   ]
  },
  {
   "cell_type": "code",
   "execution_count": 15,
   "id": "2ec08121",
   "metadata": {},
   "outputs": [
    {
     "name": "stdout",
     "output_type": "stream",
     "text": [
      "5 3\n",
      "1 2 5 4 3\n",
      "5 5 6 6 5\n",
      "26\n"
     ]
    }
   ],
   "source": [
    "n,k = map(int, input().split())\n",
    "a = list(map(int, input().split()))\n",
    "b = list(map(int, input().split()))\n",
    "\n",
    "a.sort()\n",
    "b.sort(reverse = True)\n",
    "\n",
    "for i in range(k):\n",
    "    if a[i]< b[i]:\n",
    "        a[i],b[i] = b[i],a[i]\n",
    "    else:\n",
    "        break\n",
    "print(sum(a))"
   ]
  },
  {
   "cell_type": "code",
   "execution_count": null,
   "id": "bc084d23",
   "metadata": {},
   "outputs": [],
   "source": []
  }
 ],
 "metadata": {
  "kernelspec": {
   "display_name": "Python 3 (ipykernel)",
   "language": "python",
   "name": "python3"
  },
  "language_info": {
   "codemirror_mode": {
    "name": "ipython",
    "version": 3
   },
   "file_extension": ".py",
   "mimetype": "text/x-python",
   "name": "python",
   "nbconvert_exporter": "python",
   "pygments_lexer": "ipython3",
   "version": "3.9.12"
  }
 },
 "nbformat": 4,
 "nbformat_minor": 5
}
