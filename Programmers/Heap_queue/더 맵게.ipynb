{
 "cells": [
  {
   "cell_type": "code",
   "execution_count": 45,
   "id": "3bc21d8e",
   "metadata": {},
   "outputs": [],
   "source": [
    "scoville = [1, 2, 3, 9, 10, 12]\n",
    "K = 7"
   ]
  },
  {
   "cell_type": "code",
   "execution_count": 90,
   "id": "f74f7f09",
   "metadata": {},
   "outputs": [
    {
     "name": "stdout",
     "output_type": "stream",
     "text": [
      "[3, 5]\n"
     ]
    }
   ],
   "source": [
    "scoville = [1,2,3] \n",
    "heapq.heapify(scoville)\n",
    "first = heapq.heappop(scoville)\n",
    "second = heapq.heappop(scoville)\n",
    "if first < K or second < K:\n",
    "        add = first + (second*2)\n",
    "        heapq.heappush(scoville, add)\n",
    "        \n",
    "print(scoville)\n",
    "K= 11"
   ]
  },
  {
   "cell_type": "markdown",
   "id": "da54a077",
   "metadata": {},
   "source": [
    "# 내 풀이 "
   ]
  },
  {
   "cell_type": "code",
   "execution_count": 99,
   "id": "3e1df4b8",
   "metadata": {},
   "outputs": [],
   "source": [
    "scoville = [1,2,3] \n",
    "K= 11\n",
    "import heapq\n",
    "def solution(scoville, K):\n",
    "    answer = 0\n",
    "    heapq.heapify(scoville)\n",
    "    if scoville[0] >= K:\n",
    "        answer = 0\n",
    "        return answer\n",
    "    else:\n",
    "        while scoville:\n",
    "            add = 0\n",
    "            if len(scoville) > 1:\n",
    "                first = heapq.heappop(scoville)\n",
    "                second = heapq.heappop(scoville)\n",
    "                if first < K or second < K:\n",
    "                    add = first + (second*2)\n",
    "                    heapq.heappush(scoville, add)\n",
    "                    answer += 1\n",
    "                else:\n",
    "                    heapq.heappush(scoville, first)\n",
    "                    heapq.heappush(scoville, second)\n",
    "                    if K > scoville[0]:\n",
    "                        answer = -1\n",
    "                    break\n",
    "            else:\n",
    "                if scoville[0] >= K:\n",
    "                    return answer\n",
    "                    break\n",
    "                else:\n",
    "                    answer = -1\n",
    "                    break\n",
    "    return answer"
   ]
  },
  {
   "cell_type": "code",
   "execution_count": 100,
   "id": "52cb0a8a",
   "metadata": {},
   "outputs": [
    {
     "name": "stdout",
     "output_type": "stream",
     "text": [
      "1\n",
      "2\n"
     ]
    },
    {
     "data": {
      "text/plain": [
       "2"
      ]
     },
     "execution_count": 100,
     "metadata": {},
     "output_type": "execute_result"
    }
   ],
   "source": [
    "solution(scoville, K)"
   ]
  },
  {
   "cell_type": "code",
   "execution_count": null,
   "id": "2bb2eb3e",
   "metadata": {},
   "outputs": [],
   "source": [
    "import heapq as hq\n",
    "\n",
    "def solution(scoville, K):\n",
    "\n",
    "    hq.heapify(scoville)\n",
    "    answer = 0\n",
    "    while True:\n",
    "        first = hq.heappop(scoville)\n",
    "        if first >= K:\n",
    "            break\n",
    "        if len(scoville) == 0:\n",
    "            return -1\n",
    "        second = hq.heappop(scoville)\n",
    "        hq.heappush(scoville, first + second*2)\n",
    "        answer += 1  \n",
    "\n",
    "    return answer"
   ]
  },
  {
   "cell_type": "code",
   "execution_count": null,
   "id": "8b46d287",
   "metadata": {},
   "outputs": [],
   "source": []
  }
 ],
 "metadata": {
  "kernelspec": {
   "display_name": "Python 3 (ipykernel)",
   "language": "python",
   "name": "python3"
  },
  "language_info": {
   "codemirror_mode": {
    "name": "ipython",
    "version": 3
   },
   "file_extension": ".py",
   "mimetype": "text/x-python",
   "name": "python",
   "nbconvert_exporter": "python",
   "pygments_lexer": "ipython3",
   "version": "3.9.12"
  }
 },
 "nbformat": 4,
 "nbformat_minor": 5
}
