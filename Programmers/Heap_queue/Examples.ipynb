{
 "cells": [
  {
   "cell_type": "markdown",
   "id": "8f774253",
   "metadata": {},
   "source": [
    "### 우선순위 큐: 가장 우선순위가 높은 데이터\n",
    "### 우선 순위 큐를 구현하는 방법\n",
    "#### 1) 단순히 리스트를 이용하여 구현 가능\n",
    "#### 2) 힙(heap)을 이용하여 구현 가능\n",
    "#### 리스트: 삽입시간: O(1), 삭제시간:.O(N)\n",
    "#### 힙: 삽입시간, 삭제시간: logN\n"
   ]
  },
  {
   "cell_type": "markdown",
   "id": "60732cfa",
   "metadata": {},
   "source": [
    "#### 힙은 완전 이진 트리 자효구조의 일종\n",
    "#### 힙에서는 항상 루트 노드를 제거한다\n",
    "#### 최소 힙: 루트 노드가 가장 작은 값을 가진다, 값이 작은 데이터가 우선적으로 제거\n",
    "#### 최대 힙: 루트 노드가 가장 큰 값을 가진다, 값이 큰 데이터가 우선적으로 제거 "
   ]
  },
  {
   "cell_type": "code",
   "execution_count": 8,
   "id": "e8f220a0",
   "metadata": {},
   "outputs": [
    {
     "name": "stdout",
     "output_type": "stream",
     "text": [
      "[1, 3, 5, 4, 8, 7]\n",
      "[3, 4, 5, 7, 8]\n",
      "[4, 7, 5, 8]\n",
      "[5, 7, 8]\n",
      "[7, 8]\n",
      "[8]\n",
      "[1, 3, 4, 5, 7, 8]\n"
     ]
    }
   ],
   "source": [
    "import heapq\n",
    "\n",
    "def heap_sort(nums):\n",
    "  heap = []\n",
    "  for num in nums:\n",
    "    heapq.heappush(heap, num)\n",
    "  \n",
    "  sorted_nums = []\n",
    "  while heap:\n",
    "    print(heap)\n",
    "    sorted_nums.append(heapq.heappop(heap))\n",
    "    #print(heap)\n",
    "  return sorted_nums\n",
    "\n",
    "print(heap_sort([4, 1, 7, 3, 8, 5]))"
   ]
  },
  {
   "cell_type": "code",
   "execution_count": null,
   "id": "ae89d000",
   "metadata": {},
   "outputs": [],
   "source": []
  }
 ],
 "metadata": {
  "kernelspec": {
   "display_name": "Python 3 (ipykernel)",
   "language": "python",
   "name": "python3"
  },
  "language_info": {
   "codemirror_mode": {
    "name": "ipython",
    "version": 3
   },
   "file_extension": ".py",
   "mimetype": "text/x-python",
   "name": "python",
   "nbconvert_exporter": "python",
   "pygments_lexer": "ipython3",
   "version": "3.9.12"
  }
 },
 "nbformat": 4,
 "nbformat_minor": 5
}
