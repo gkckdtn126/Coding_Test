{
 "cells": [
  {
   "cell_type": "markdown",
   "id": "378c1b9f",
   "metadata": {},
   "source": [
    "### My solution"
   ]
  },
  {
   "cell_type": "code",
   "execution_count": 21,
   "id": "4376a886",
   "metadata": {},
   "outputs": [],
   "source": [
    "def solution(prices):\n",
    "    answer = []\n",
    "    while prices:\n",
    "        price = prices.pop(0)\n",
    "        sec = 0\n",
    "        for q in prices:\n",
    "            sec += 1\n",
    "            if price > q:\n",
    "                break\n",
    "        answer.append(sec)\n",
    "    return answer"
   ]
  },
  {
   "cell_type": "code",
   "execution_count": 22,
   "id": "446628ab",
   "metadata": {},
   "outputs": [
    {
     "data": {
      "text/plain": [
       "[4, 3, 1, 1, 0]"
      ]
     },
     "execution_count": 22,
     "metadata": {},
     "output_type": "execute_result"
    }
   ],
   "source": [
    "prices = [1, 2, 3, 2, 3]\n",
    "solution(prices)"
   ]
  },
  {
   "cell_type": "markdown",
   "id": "31f6788e",
   "metadata": {},
   "source": [
    "### 다른사람 풀이, deque 사용 "
   ]
  },
  {
   "cell_type": "code",
   "execution_count": 31,
   "id": "acf1f384",
   "metadata": {},
   "outputs": [],
   "source": [
    "from collections import deque\n",
    "def solution(prices):\n",
    "    queue = deque(prices)\n",
    "    answer = []\n",
    "    while queue:\n",
    "        price = queue.popleft()\n",
    "        sec = 0\n",
    "        for q in queue:\n",
    "            sec += 1\n",
    "            if price > q:\n",
    "                break\n",
    "        answer.append(sec)\n",
    "    return answer"
   ]
  },
  {
   "cell_type": "code",
   "execution_count": 32,
   "id": "7b1ce702",
   "metadata": {},
   "outputs": [
    {
     "data": {
      "text/plain": [
       "[4, 3, 1, 1, 0]"
      ]
     },
     "execution_count": 32,
     "metadata": {},
     "output_type": "execute_result"
    }
   ],
   "source": [
    "prices = [1, 2, 3, 2, 3]\n",
    "solution(prices)"
   ]
  },
  {
   "cell_type": "code",
   "execution_count": null,
   "id": "1584c274",
   "metadata": {},
   "outputs": [],
   "source": []
  }
 ],
 "metadata": {
  "kernelspec": {
   "display_name": "Python 3 (ipykernel)",
   "language": "python",
   "name": "python3"
  },
  "language_info": {
   "codemirror_mode": {
    "name": "ipython",
    "version": 3
   },
   "file_extension": ".py",
   "mimetype": "text/x-python",
   "name": "python",
   "nbconvert_exporter": "python",
   "pygments_lexer": "ipython3",
   "version": "3.9.12"
  }
 },
 "nbformat": 4,
 "nbformat_minor": 5
}
