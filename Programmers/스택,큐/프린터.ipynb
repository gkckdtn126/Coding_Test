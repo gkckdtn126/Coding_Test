{
 "cells": [
  {
   "cell_type": "markdown",
   "id": "e9fd5e59",
   "metadata": {},
   "source": [
    "#### 1. 인쇄 대기목록의 가장 앞에 있는 문서(J)를 대기목록에서 꺼냅니다.\n",
    "#### 2. 나머지 인쇄 대기목록에서 J보다 중요도가 높은 문서가 한 개라도 존재하면 J를 대기목록의 가장 마지막에 넣습니다.\n",
    "#### 3. 그렇지 않으면 J를 인쇄합니다."
   ]
  },
  {
   "cell_type": "markdown",
   "id": "a7962a38",
   "metadata": {},
   "source": [
    "### [2, 1, 3, 2]\t2\t1\n",
    "### [1, 1, 9, 1, 1, 1]\t0\t5\n",
    "### [1, 1, 9, 1, 3, 1]\t0\t5 -> 913111 -> 13111 -> 31111 (pop 하는 순서가 그 순서)\n",
    "### if 제일 큰숫자가 존재한다 -> 그 숫자 pop, 존재 안한다 -> 순서대로 pop\n",
    "### 제일 높은거, 9 -> pop, 다음 높은거 3 -> pop"
   ]
  },
  {
   "cell_type": "code",
   "execution_count": 217,
   "id": "ec813688",
   "metadata": {},
   "outputs": [],
   "source": [
    "priorities = [1, 1, 9, 1, 3, 1]\n",
    "location = 1"
   ]
  },
  {
   "cell_type": "code",
   "execution_count": 228,
   "id": "c42fcaee",
   "metadata": {},
   "outputs": [],
   "source": [
    "def solution(priorities, location):\n",
    "    answer = 0\n",
    "    Q = []\n",
    "    for i in range(len(priorities)):\n",
    "        Q.append([priorities[i],i])\n",
    "    while True:\n",
    "        if Q[0][0] == max(Q)[0]:\n",
    "            answer += 1\n",
    "            if Q[0][1] == location:\n",
    "                return answer\n",
    "            Q.pop(0)\n",
    "            print(Q)\n",
    "        else:\n",
    "            Q.append(Q.pop(0))"
   ]
  },
  {
   "cell_type": "code",
   "execution_count": 229,
   "id": "2e855633",
   "metadata": {},
   "outputs": [
    {
     "name": "stdout",
     "output_type": "stream",
     "text": [
      "[[1, 3], [3, 4], [1, 5], [1, 0], [1, 1]]\n",
      "[[1, 5], [1, 0], [1, 1], [1, 3]]\n",
      "[[1, 0], [1, 1], [1, 3]]\n",
      "[[1, 1], [1, 3]]\n",
      "5\n"
     ]
    }
   ],
   "source": [
    "Q= solution(priorities,location)\n",
    "print(Q)"
   ]
  },
  {
   "cell_type": "markdown",
   "id": "998c5562",
   "metadata": {},
   "source": [
    "### Other Solution"
   ]
  },
  {
   "cell_type": "code",
   "execution_count": 220,
   "id": "66fabd46",
   "metadata": {},
   "outputs": [],
   "source": [
    "def solution(priorities, location):\n",
    "    priorities = [(v, idx) for idx, v in enumerate(priorities)]\n",
    "    print(priorities)\n",
    "    count = 0\n",
    "    while True:\n",
    "        if priorities[0][0] == max(priorities)[0]:\n",
    "            count += 1\n",
    "            if priorities[0][1] == location:\n",
    "                break\n",
    "            priorities.pop(0)\n",
    "            print(priorities)\n",
    "        else:\n",
    "            priorities.append(priorities.pop(0))\n",
    "    return count"
   ]
  },
  {
   "cell_type": "code",
   "execution_count": 221,
   "id": "af5e92bb",
   "metadata": {},
   "outputs": [
    {
     "name": "stdout",
     "output_type": "stream",
     "text": [
      "[(1, 0), (1, 1), (9, 2), (1, 3), (3, 4), (1, 5)]\n",
      "[(1, 3), (3, 4), (1, 5), (1, 0), (1, 1)]\n",
      "[(1, 5), (1, 0), (1, 1), (1, 3)]\n",
      "[(1, 0), (1, 1), (1, 3)]\n",
      "[(1, 1), (1, 3)]\n",
      "5\n"
     ]
    }
   ],
   "source": [
    "Q= solution(priorities,location)\n",
    "print(Q)"
   ]
  },
  {
   "cell_type": "code",
   "execution_count": null,
   "id": "427c838f",
   "metadata": {},
   "outputs": [],
   "source": [
    "def solution(priorities, location):\n",
    "    # 1. (idx, priority) 형태로 문서를 저장한 q를 생성합니다.\n",
    "    q = [ (idx, priority) for (idx, priority) in enumerate(priorities) ]\n",
    "    answer = 0\n",
    "\n",
    "    # 2. q가 비거나, location에 해당하는 문서를 출력할 때까지, 다음을 반복합니다.\n",
    "    while q:\n",
    "        # 1. 가장 맨 앞의 문서 front를 q에서 가져옵니다.\n",
    "        front = q.pop(0)\n",
    "\n",
    "        # 2. 큐속에 저장된 문서들과 현재 문서 front의 우선 순위를 비교합니다. \n",
    "        # 2-1. 큐 속에 저장된 문서 중, 자신보다 우선 순위가 높은 것이 있다면, 다시 큐 속에 저장됩니다.\n",
    "        # 2-2. 높은 것이 없다면, 출력합니다.\n",
    "        # 2-2-1. 출력 answer += 1\n",
    "        # 2-2-2. 만약 location에 해당하는 문서라면, 반복을 멈춥니다.\n",
    "        if any( front[1] < doc[1] for doc in q ):\n",
    "            q.append(front)\n",
    "        else:\n",
    "            answer += 1\n",
    "\n",
    "            if front[0] == location:\n",
    "                break\n",
    "\n",
    "    return answer"
   ]
  },
  {
   "cell_type": "code",
   "execution_count": 230,
   "id": "33559069",
   "metadata": {},
   "outputs": [],
   "source": [
    "priorities = [1, 1, 9, 1, 3, 1]\n",
    "location = 1"
   ]
  },
  {
   "cell_type": "code",
   "execution_count": 243,
   "id": "052dc860",
   "metadata": {},
   "outputs": [],
   "source": [
    "def solution(priorities, location):\n",
    "    # 1. (idx, priority) 형태로 문서를 저장한 q를 생성합니다.\n",
    "    q = [ [i, p] for [i, p] in enumerate(priorities) ]\n",
    "    return q\n"
   ]
  },
  {
   "cell_type": "code",
   "execution_count": 244,
   "id": "2e4de12c",
   "metadata": {},
   "outputs": [
    {
     "data": {
      "text/plain": [
       "'def solution(priorities, location):\\n    # 1. (idx, priority) 형태로 문서를 저장한 q를 생성합니다.\\n    q = [ (i, p) for (i, p) in enumerate(priorities) ]\\n    return q'"
      ]
     },
     "execution_count": 244,
     "metadata": {},
     "output_type": "execute_result"
    }
   ],
   "source": [
    "'''def solution(priorities, location):\n",
    "    # 1. (idx, priority) 형태로 문서를 저장한 q를 생성합니다.\n",
    "    q = [ (i, p) for (i, p) in enumerate(priorities) ]\n",
    "    return q'''\n"
   ]
  },
  {
   "cell_type": "code",
   "execution_count": 245,
   "id": "2f8cdf9b",
   "metadata": {},
   "outputs": [
    {
     "name": "stdout",
     "output_type": "stream",
     "text": [
      "<class 'list'>\n"
     ]
    }
   ],
   "source": [
    "Q= solution(priorities,location)\n",
    "print(type(Q[0]))"
   ]
  }
 ],
 "metadata": {
  "kernelspec": {
   "display_name": "Python 3 (ipykernel)",
   "language": "python",
   "name": "python3"
  },
  "language_info": {
   "codemirror_mode": {
    "name": "ipython",
    "version": 3
   },
   "file_extension": ".py",
   "mimetype": "text/x-python",
   "name": "python",
   "nbconvert_exporter": "python",
   "pygments_lexer": "ipython3",
   "version": "3.9.12"
  }
 },
 "nbformat": 4,
 "nbformat_minor": 5
}
