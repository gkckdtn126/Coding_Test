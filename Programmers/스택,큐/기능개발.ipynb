{
 "cells": [
  {
   "cell_type": "code",
   "execution_count": 6,
   "id": "9a46c7fc",
   "metadata": {},
   "outputs": [
    {
     "name": "stdout",
     "output_type": "stream",
     "text": [
      "[95, 96]\n"
     ]
    }
   ],
   "source": [
    "pro = [95,96,93]\n",
    "pro.pop(2)\n",
    "print(pro)"
   ]
  },
  {
   "cell_type": "markdown",
   "id": "ccc93e8b",
   "metadata": {},
   "source": [
    "### My solution"
   ]
  },
  {
   "cell_type": "code",
   "execution_count": 8,
   "id": "8e07f4ad",
   "metadata": {},
   "outputs": [],
   "source": [
    "def solution(progresses, speeds):\n",
    "\n",
    "    answer = []\n",
    "    time = 0\n",
    "    count = 0\n",
    "    \n",
    "    while len(progresses) > 0:\n",
    "        if (progresses[0]+time*speeds[0])>= 100:\n",
    "            progresses.pop(0)\n",
    "            speeds.pop(0)\n",
    "            count += 1\n",
    "        else:\n",
    "            if count > 0:\n",
    "                answer.append(count)\n",
    "                count = 0\n",
    "            time += 1\n",
    "    answer.append(count)\n",
    "    return answer"
   ]
  },
  {
   "cell_type": "markdown",
   "id": "656ae1e5",
   "metadata": {},
   "source": [
    "### Others Solution"
   ]
  },
  {
   "cell_type": "code",
   "execution_count": 10,
   "id": "74a28cd7",
   "metadata": {},
   "outputs": [],
   "source": [
    "speeds = [1, 1, 1, 1, 1, 1]\n",
    "progresses = [95, 90, 99, 99, 80, 99]"
   ]
  },
  {
   "cell_type": "code",
   "execution_count": 18,
   "id": "4ddf5b2a",
   "metadata": {},
   "outputs": [],
   "source": [
    "def solution(progresses, speeds):\n",
    "    Q=[]\n",
    "    for p, s in zip(progresses, speeds):\n",
    "        if len(Q)==0 or Q[-1][0]<-((p-100)//s):\n",
    "            Q.append([-((p-100)//s),1])\n",
    "            print(\"FIRST\",Q)\n",
    "        else:\n",
    "            Q[-1][1]+=1\n",
    "            print(\"SECOND\",Q)\n",
    "    return [q[1] for q in Q]"
   ]
  },
  {
   "cell_type": "code",
   "execution_count": 19,
   "id": "c2efe1c0",
   "metadata": {},
   "outputs": [
    {
     "name": "stdout",
     "output_type": "stream",
     "text": [
      "FIRST [[5, 1]]\n",
      "FIRST [[5, 1], [10, 1]]\n",
      "SECOND [[5, 1], [10, 2]]\n",
      "SECOND [[5, 1], [10, 3]]\n",
      "FIRST [[5, 1], [10, 3], [20, 1]]\n",
      "SECOND [[5, 1], [10, 3], [20, 2]]\n"
     ]
    },
    {
     "data": {
      "text/plain": [
       "[1, 3, 2]"
      ]
     },
     "execution_count": 19,
     "metadata": {},
     "output_type": "execute_result"
    }
   ],
   "source": [
    "solution(progresses,speeds)"
   ]
  },
  {
   "cell_type": "code",
   "execution_count": null,
   "id": "42fbe743",
   "metadata": {},
   "outputs": [],
   "source": []
  }
 ],
 "metadata": {
  "kernelspec": {
   "display_name": "Python 3 (ipykernel)",
   "language": "python",
   "name": "python3"
  },
  "language_info": {
   "codemirror_mode": {
    "name": "ipython",
    "version": 3
   },
   "file_extension": ".py",
   "mimetype": "text/x-python",
   "name": "python",
   "nbconvert_exporter": "python",
   "pygments_lexer": "ipython3",
   "version": "3.9.12"
  }
 },
 "nbformat": 4,
 "nbformat_minor": 5
}
