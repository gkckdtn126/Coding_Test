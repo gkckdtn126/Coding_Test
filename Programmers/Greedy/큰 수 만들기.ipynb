{
 "cells": [
  {
   "cell_type": "markdown",
   "id": "ecf4b0c2",
   "metadata": {},
   "source": [
    "#### K개의 수를 제거했을 때 얻을 수 있는 가장 큰 숫자\n"
   ]
  },
  {
   "cell_type": "code",
   "execution_count": 11,
   "id": "fa1b384c",
   "metadata": {},
   "outputs": [],
   "source": [
    "number = \"1924\"\n",
    "k = 2"
   ]
  },
  {
   "cell_type": "markdown",
   "id": "4ec2ec40",
   "metadata": {},
   "source": [
    "#### 아래거 시간초과..."
   ]
  },
  {
   "cell_type": "code",
   "execution_count": 42,
   "id": "a2690001",
   "metadata": {},
   "outputs": [],
   "source": [
    "from itertools import permutations\n",
    "def solution(number, k):\n",
    "    list_number = list(number)\n",
    "    per = list(permutations(list_number,k))\n",
    "    num_best = []\n",
    "    for i in per:\n",
    "        list_number1 = list(list_number)\n",
    "        for j in i:\n",
    "            list_number1.remove(j)\n",
    "        num_best.append(list_number1)\n",
    "    answer = ''.join(max(num_best))\n",
    "    answer = f'{answer}'\n",
    "    return answer"
   ]
  },
  {
   "cell_type": "code",
   "execution_count": 46,
   "id": "9d76fffb",
   "metadata": {},
   "outputs": [],
   "source": [
    "def solution(number, k):\n",
    "    answer = [] # Stack\n",
    "    \n",
    "    for num in number:\n",
    "        print(num)\n",
    "        if not answer:\n",
    "            answer.append(num)\n",
    "            continue\n",
    "        if k > 0:\n",
    "            while answer[-1] < num:\n",
    "                answer.pop()\n",
    "                k -= 1\n",
    "                if not answer or k <= 0:\n",
    "                    break\n",
    "        answer.append(num)\n",
    "        \n",
    "    answer = answer[:-k] if k > 0 else answer\n",
    "    return ''.join(answer)"
   ]
  },
  {
   "cell_type": "code",
   "execution_count": null,
   "id": "1c16f946",
   "metadata": {},
   "outputs": [],
   "source": [
    "def solution(number, k):\n",
    "    stack = [number[0]]\n",
    "    for num in number[1:]:\n",
    "        while len(stack) > 0 and stack[-1] < num and k > 0:\n",
    "            k -= 1\n",
    "            stack.pop()\n",
    "        stack.append(num)\n",
    "    if k != 0:\n",
    "        stack = stack[:-k]\n",
    "    return ''.join(stack)"
   ]
  },
  {
   "cell_type": "code",
   "execution_count": null,
   "id": "3e86510a",
   "metadata": {},
   "outputs": [],
   "source": [
    "list_number = list(number)\n",
    "num_best = []\n",
    "for i in list_number:"
   ]
  },
  {
   "cell_type": "code",
   "execution_count": 47,
   "id": "8a3599b4",
   "metadata": {},
   "outputs": [
    {
     "name": "stdout",
     "output_type": "stream",
     "text": [
      "4\n",
      "1\n",
      "7\n",
      "7\n",
      "2\n",
      "5\n",
      "2\n",
      "8\n",
      "4\n",
      "1\n"
     ]
    },
    {
     "data": {
      "text/plain": [
       "'775841'"
      ]
     },
     "execution_count": 47,
     "metadata": {},
     "output_type": "execute_result"
    }
   ],
   "source": [
    "solution(number, k)"
   ]
  },
  {
   "cell_type": "code",
   "execution_count": 30,
   "id": "5865f5c3",
   "metadata": {},
   "outputs": [],
   "source": [
    "number = \"4177252841\"\n",
    "k = 4"
   ]
  },
  {
   "cell_type": "code",
   "execution_count": 33,
   "id": "679bf033",
   "metadata": {},
   "outputs": [
    {
     "name": "stdout",
     "output_type": "stream",
     "text": [
      "775841\n"
     ]
    }
   ],
   "source": [
    "list_number = list(number)\n",
    "num_re = len(list_number)-k\n",
    "per = list(permutations(list_number,k))\n",
    "num_best = []\n",
    "for i in per:\n",
    "    list_number = list(number)\n",
    "    for j in i:\n",
    "        list_number.remove(j)\n",
    "    num_best.append(list_number)\n",
    "print()"
   ]
  },
  {
   "cell_type": "code",
   "execution_count": null,
   "id": "a572a0f6",
   "metadata": {},
   "outputs": [],
   "source": [
    "for i in per:\n",
    "    i = ''.join(i)\n",
    "    num_best.append(i)\n",
    "\n",
    "print(num_best)"
   ]
  }
 ],
 "metadata": {
  "kernelspec": {
   "display_name": "Python 3 (ipykernel)",
   "language": "python",
   "name": "python3"
  },
  "language_info": {
   "codemirror_mode": {
    "name": "ipython",
    "version": 3
   },
   "file_extension": ".py",
   "mimetype": "text/x-python",
   "name": "python",
   "nbconvert_exporter": "python",
   "pygments_lexer": "ipython3",
   "version": "3.9.12"
  }
 },
 "nbformat": 4,
 "nbformat_minor": 5
}
