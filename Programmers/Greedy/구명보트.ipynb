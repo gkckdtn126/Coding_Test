{
 "cells": [
  {
   "cell_type": "code",
   "execution_count": 62,
   "id": "483e2605",
   "metadata": {},
   "outputs": [],
   "source": [
    "people =[70, 50, 80, 50]\n",
    "limit = 100"
   ]
  },
  {
   "cell_type": "code",
   "execution_count": 91,
   "id": "aab3677c",
   "metadata": {},
   "outputs": [],
   "source": [
    "def solution(people, limit):\n",
    "    answer = 0\n",
    "    remain = list(people)\n",
    "    count = 0\n",
    "    while count<len(people):\n",
    "        boat = []\n",
    "        boat.append(remain[0])\n",
    "        for i in range(1,len(remain)):\n",
    "            boat.append(remain[i])\n",
    "            print(boat)\n",
    "            if sum(boat) <= limit:\n",
    "                answer += 1\n",
    "                remain.remove(remain[i])\n",
    "                count += 2\n",
    "                #print(remain)\n",
    "                break\n",
    "            else:\n",
    "                #print(remain)\n",
    "                count += 1\n",
    "                break\n",
    "        remain.remove(remain[0])\n",
    "    boat_alone = len(people)-(answer*2)\n",
    "    answer =answer + boat_alone\n",
    "    return answer"
   ]
  },
  {
   "cell_type": "code",
   "execution_count": 92,
   "id": "881f4bda",
   "metadata": {},
   "outputs": [
    {
     "name": "stdout",
     "output_type": "stream",
     "text": [
      "[70, 50]\n",
      "[50, 80]\n",
      "[80, 50]\n"
     ]
    },
    {
     "ename": "IndexError",
     "evalue": "list index out of range",
     "output_type": "error",
     "traceback": [
      "\u001b[1;31m---------------------------------------------------------------------------\u001b[0m",
      "\u001b[1;31mIndexError\u001b[0m                                Traceback (most recent call last)",
      "Input \u001b[1;32mIn [92]\u001b[0m, in \u001b[0;36m<cell line: 1>\u001b[1;34m()\u001b[0m\n\u001b[1;32m----> 1\u001b[0m \u001b[43msolution\u001b[49m\u001b[43m(\u001b[49m\u001b[43mpeople\u001b[49m\u001b[43m,\u001b[49m\u001b[43m \u001b[49m\u001b[43mlimit\u001b[49m\u001b[43m)\u001b[49m\n",
      "Input \u001b[1;32mIn [91]\u001b[0m, in \u001b[0;36msolution\u001b[1;34m(people, limit)\u001b[0m\n\u001b[0;32m      5\u001b[0m \u001b[38;5;28;01mwhile\u001b[39;00m count\u001b[38;5;241m<\u001b[39m\u001b[38;5;28mlen\u001b[39m(people):\n\u001b[0;32m      6\u001b[0m     boat \u001b[38;5;241m=\u001b[39m []\n\u001b[1;32m----> 7\u001b[0m     boat\u001b[38;5;241m.\u001b[39mappend(\u001b[43mremain\u001b[49m\u001b[43m[\u001b[49m\u001b[38;5;241;43m0\u001b[39;49m\u001b[43m]\u001b[49m)\n\u001b[0;32m      8\u001b[0m     \u001b[38;5;28;01mfor\u001b[39;00m i \u001b[38;5;129;01min\u001b[39;00m \u001b[38;5;28mrange\u001b[39m(\u001b[38;5;241m1\u001b[39m,\u001b[38;5;28mlen\u001b[39m(remain)):\n\u001b[0;32m      9\u001b[0m         boat\u001b[38;5;241m.\u001b[39mappend(remain[i])\n",
      "\u001b[1;31mIndexError\u001b[0m: list index out of range"
     ]
    }
   ],
   "source": [
    "solution(people, limit)"
   ]
  },
  {
   "cell_type": "code",
   "execution_count": 94,
   "id": "0e835493",
   "metadata": {},
   "outputs": [],
   "source": [
    "people =[70, 50, 80, 50]\n",
    "limit = 100"
   ]
  },
  {
   "cell_type": "code",
   "execution_count": 95,
   "id": "62f0b4f9",
   "metadata": {},
   "outputs": [],
   "source": [
    "#큰 사람순서로 정렬, 가장 큰 사람+ 가장 작은사람 들어갈 수 있으면 타고,아니면 그냥 혼자 타기 \n",
    "def solution(people, limit):\n",
    "    answer = len(people)\n",
    "    p = sorted(people,reverse = True)\n",
    "    s = 0\n",
    "    e = len(p)-1\n",
    "    while s < e:\n",
    "        if p[s]+p[e] <=limit:\n",
    "            e -= 1\n",
    "            answer -=1\n",
    "        s += 1\n",
    "    return answer"
   ]
  },
  {
   "cell_type": "code",
   "execution_count": 96,
   "id": "7f11fb3a",
   "metadata": {},
   "outputs": [
    {
     "data": {
      "text/plain": [
       "3"
      ]
     },
     "execution_count": 96,
     "metadata": {},
     "output_type": "execute_result"
    }
   ],
   "source": [
    "solution(people, limit)"
   ]
  },
  {
   "cell_type": "code",
   "execution_count": null,
   "id": "3d3fa704",
   "metadata": {},
   "outputs": [],
   "source": []
  }
 ],
 "metadata": {
  "kernelspec": {
   "display_name": "Python 3 (ipykernel)",
   "language": "python",
   "name": "python3"
  },
  "language_info": {
   "codemirror_mode": {
    "name": "ipython",
    "version": 3
   },
   "file_extension": ".py",
   "mimetype": "text/x-python",
   "name": "python",
   "nbconvert_exporter": "python",
   "pygments_lexer": "ipython3",
   "version": "3.9.12"
  }
 },
 "nbformat": 4,
 "nbformat_minor": 5
}
