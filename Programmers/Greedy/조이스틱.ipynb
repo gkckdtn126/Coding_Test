{
 "cells": [
  {
   "cell_type": "markdown",
   "id": "f475e6a1",
   "metadata": {},
   "source": [
    "# 조이스틱\n",
    "####  A BCDEFGHIJKLM N OPQRSTUVWXYZ\n",
    "#### 위: 다음, 아래: 이전, 왼쪽: 커서 왼쪽, 오른쪽: 커서 오른쪽\n",
    "#### A로 시작\n",
    "#### 3개에서 두번째가 A이면 마지막 위치 가기 위해 왼쪽 한번\n",
    "#### 4개에서 두번째세번째가 A이면 마지막 위치 가기 위해 왼쪽 한번 \n",
    "#### 9, 4, 9, 12 , 4, 12\n",
    "#### B:1, C:2, D:3, E:4, F:5, G:6, H:7, I:8, J:9, K:10, L:11,M:12  N:13\n",
    "#### Z:1, Y:2, X:3, W:4, V:5, U:6, T:7, S:8, R:9, Q:10, P: 11, O: 12\n",
    "#### 중간에 모두 A이면 \n",
    "#### AAAB"
   ]
  },
  {
   "cell_type": "code",
   "execution_count": 4,
   "id": "e4bc22de",
   "metadata": {},
   "outputs": [
    {
     "name": "stdout",
     "output_type": "stream",
     "text": [
      "4\n"
     ]
    }
   ],
   "source": [
    "print(ord('E')-ord('A'))"
   ]
  },
  {
   "cell_type": "markdown",
   "id": "65462483",
   "metadata": {},
   "source": [
    "#### 밑에 풀이 미쳤다.."
   ]
  },
  {
   "cell_type": "code",
   "execution_count": null,
   "id": "328ad285",
   "metadata": {},
   "outputs": [],
   "source": [
    "def solution(name):\n",
    "\n",
    "\t# 조이스틱 조작 횟수 \n",
    "    answer = 0\n",
    "    \n",
    "    # 기본 최소 좌우이동 횟수는 길이 - 1\n",
    "    min_move = len(name) - 1\n",
    "    \n",
    "    for i, char in enumerate(name):\n",
    "    \t# 해당 알파벳 변경 최솟값 추가\n",
    "        answer += min(ord(char) - ord('A'), ord('Z') - ord(char) + 1)\n",
    "        \n",
    "        # 해당 알파벳 다음부터 연속된 A 문자열 찾기\n",
    "        next = i + 1\n",
    "        while next < len(name) and name[next] == 'A':\n",
    "            next += 1\n",
    "            \n",
    "        # 기존, 연속된 A의 왼쪽시작 방식, 연속된 A의 오른쪽시작 방식 비교 및 갱신\n",
    "        min_move = min([min_move, 2 *i + len(name) - next, i + 2 * (len(name) -next)])\n",
    "        \n",
    "    # 알파벳 변경(상하이동) 횟수에 좌우이동 횟수 추가\n",
    "    answer += min_move\n",
    "    return answer"
   ]
  }
 ],
 "metadata": {
  "kernelspec": {
   "display_name": "Python 3 (ipykernel)",
   "language": "python",
   "name": "python3"
  },
  "language_info": {
   "codemirror_mode": {
    "name": "ipython",
    "version": 3
   },
   "file_extension": ".py",
   "mimetype": "text/x-python",
   "name": "python",
   "nbconvert_exporter": "python",
   "pygments_lexer": "ipython3",
   "version": "3.9.12"
  }
 },
 "nbformat": 4,
 "nbformat_minor": 5
}
