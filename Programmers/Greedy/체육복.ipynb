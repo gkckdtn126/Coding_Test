{
 "cells": [
  {
   "cell_type": "markdown",
   "id": "9483cf53",
   "metadata": {},
   "source": [
    "#### 체육복을 도난, 여벌 체육복이 있는 학생이 빌려줌, 번호는 체격순으로 매겨짐, 바로 앞번호 혹은 뒷번호 학생에게만 체육복 빌릴수 있음 최대한 많은 학생이 체육 수업을 들어야 함\n",
    "#### 여벌 체육복을 가져온 학생이 체육복 도난 당했을 수 있는데 이 때는 못빌려준다. 32"
   ]
  },
  {
   "cell_type": "markdown",
   "id": "98e33c9f",
   "metadata": {},
   "source": [
    "#### 앞 뒤 다 존재, 앞, 뒤 따로 존재 \n",
    "#### 1,3/ 3,5/ 5,7"
   ]
  },
  {
   "cell_type": "code",
   "execution_count": 28,
   "id": "70dda12a",
   "metadata": {},
   "outputs": [],
   "source": [
    "n = 7\n",
    "lost = [3,4,5]\n",
    "reserve = [1,4]"
   ]
  },
  {
   "cell_type": "code",
   "execution_count": 29,
   "id": "27c2643b",
   "metadata": {},
   "outputs": [],
   "source": [
    "def solution(n, lost, reserve):\n",
    "    answer = n-len(lost)\n",
    "    for i in lost:\n",
    "        if i in reserve:\n",
    "            answer += 1\n",
    "            reserve.remove(i)\n",
    "        elif i-1 in reserve:\n",
    "            answer += 1\n",
    "            reserve.remove(i-1)\n",
    "        elif i+1 in reserve:\n",
    "            answer += 1\n",
    "            reserve.remove(i+1)     \n",
    "    return answer\n"
   ]
  },
  {
   "cell_type": "code",
   "execution_count": 30,
   "id": "f8e5396f",
   "metadata": {},
   "outputs": [
    {
     "data": {
      "text/plain": [
       "5"
      ]
     },
     "execution_count": 30,
     "metadata": {},
     "output_type": "execute_result"
    }
   ],
   "source": [
    "solution(n, lost, reserve)"
   ]
  },
  {
   "cell_type": "code",
   "execution_count": 54,
   "id": "02c95cdd",
   "metadata": {},
   "outputs": [],
   "source": [
    "n = 7\n",
    "lost = [2,4,5,6]\n",
    "reserve = [1,4,5,6]"
   ]
  },
  {
   "cell_type": "code",
   "execution_count": 57,
   "id": "7bca9bc1",
   "metadata": {},
   "outputs": [],
   "source": [
    "n = 3\n",
    "lost = [3]\n",
    "reserve = [1]"
   ]
  },
  {
   "cell_type": "code",
   "execution_count": 58,
   "id": "09099221",
   "metadata": {},
   "outputs": [],
   "source": [
    "def solution(n, lost, reserve):\n",
    "    answer = n-len(lost)\n",
    "    lost1 = list(lost)\n",
    "    for i in lost:\n",
    "        if i in reserve:\n",
    "            answer += 1\n",
    "            reserve.remove(i)\n",
    "            lost1.remove(i)\n",
    "    for i in lost1:   \n",
    "        if i-1 in reserve:\n",
    "            answer += 1\n",
    "            reserve.remove(i-1)\n",
    "        elif i+1 in reserve:\n",
    "            answer += 1\n",
    "            reserve.remove(i+1)     \n",
    "    return answer"
   ]
  },
  {
   "cell_type": "code",
   "execution_count": 59,
   "id": "cc917fa2",
   "metadata": {},
   "outputs": [
    {
     "data": {
      "text/plain": [
       "2"
      ]
     },
     "execution_count": 59,
     "metadata": {},
     "output_type": "execute_result"
    }
   ],
   "source": [
    "solution(n, lost, reserve)"
   ]
  },
  {
   "cell_type": "code",
   "execution_count": null,
   "id": "277865e4",
   "metadata": {},
   "outputs": [],
   "source": []
  }
 ],
 "metadata": {
  "kernelspec": {
   "display_name": "Python 3 (ipykernel)",
   "language": "python",
   "name": "python3"
  },
  "language_info": {
   "codemirror_mode": {
    "name": "ipython",
    "version": 3
   },
   "file_extension": ".py",
   "mimetype": "text/x-python",
   "name": "python",
   "nbconvert_exporter": "python",
   "pygments_lexer": "ipython3",
   "version": "3.9.12"
  }
 },
 "nbformat": 4,
 "nbformat_minor": 5
}
