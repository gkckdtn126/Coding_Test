{
 "cells": [
  {
   "cell_type": "markdown",
   "id": "3ecbeed7",
   "metadata": {},
   "source": [
    "# 최대공약수 문제, 재귀함수를 통해, A를 B로 나눈 나머지를 R, A와 B의 최대공약수는 B와 R의 최대공약수와 같다 \n"
   ]
  },
  {
   "cell_type": "code",
   "execution_count": 18,
   "id": "bea3dc9d",
   "metadata": {},
   "outputs": [
    {
     "name": "stdout",
     "output_type": "stream",
     "text": [
      "6\n"
     ]
    }
   ],
   "source": [
    "def gcd(a,b):\n",
    "    if a%b ==0:\n",
    "        return b\n",
    "    else:\n",
    "        return gcd(b,a%b)\n",
    "print(gcd(192,162))\n"
   ]
  },
  {
   "cell_type": "code",
   "execution_count": 17,
   "id": "d8db937d",
   "metadata": {},
   "outputs": [
    {
     "data": {
      "text/plain": [
       "120"
      ]
     },
     "execution_count": 17,
     "metadata": {},
     "output_type": "execute_result"
    }
   ],
   "source": [
    "def factorial_iterative(n):\n",
    "    result = 1\n",
    "    for i in range(1, n+1):\n",
    "        result *=i\n",
    "    return result\n",
    "factorial_iterative(5)"
   ]
  },
  {
   "cell_type": "markdown",
   "id": "f6a70307",
   "metadata": {},
   "source": [
    "### 함수 자체를 불러오는 것, 재귀 함수 "
   ]
  },
  {
   "cell_type": "code",
   "execution_count": 16,
   "id": "1f4c1f9f",
   "metadata": {},
   "outputs": [
    {
     "data": {
      "text/plain": [
       "120"
      ]
     },
     "execution_count": 16,
     "metadata": {},
     "output_type": "execute_result"
    }
   ],
   "source": [
    "def factorial_recursive(n):\n",
    "    if n<=1:\n",
    "        return 1\n",
    "    return n*factorial_recursive(n-1)\n",
    "factorial_recursive(5)"
   ]
  },
  {
   "cell_type": "markdown",
   "id": "005c3831",
   "metadata": {},
   "source": [
    "# 큐"
   ]
  },
  {
   "cell_type": "code",
   "execution_count": 14,
   "id": "92f5fb9f",
   "metadata": {},
   "outputs": [
    {
     "name": "stdout",
     "output_type": "stream",
     "text": [
      "deque([5, 2, 3, 7])\n",
      "deque([2, 3, 7])\n",
      "deque([7, 3, 2])\n"
     ]
    }
   ],
   "source": [
    "A = [1,23,4,5]\n",
    "from collections import deque\n",
    "queue = deque()\n",
    "queue.append(5)\n",
    "queue.append(2)\n",
    "queue.append(3)\n",
    "queue.append(7)\n",
    "print(queue)\n",
    "queue.popleft()\n",
    "print(queue)\n",
    "queue.reverse()\n",
    "print(queue)\n"
   ]
  },
  {
   "cell_type": "markdown",
   "id": "96029b1d",
   "metadata": {},
   "source": [
    "# 스택"
   ]
  },
  {
   "cell_type": "code",
   "execution_count": 12,
   "id": "eeee82c6",
   "metadata": {},
   "outputs": [
    {
     "name": "stdout",
     "output_type": "stream",
     "text": [
      "[1, 23, 4, 5, 4]\n",
      "[4, 5, 4, 23, 1]\n",
      "[1, 23, 4, 5, 4]\n",
      "[1, 23, 4, 5]\n"
     ]
    }
   ],
   "source": [
    "A = [1,23,4,5]\n",
    "A.append(4)\n",
    "print(A)\n",
    "print(A[::-1])\n",
    "print(A)\n",
    "print(A[:-1])"
   ]
  },
  {
   "cell_type": "code",
   "execution_count": null,
   "id": "fd0b231d",
   "metadata": {},
   "outputs": [],
   "source": [
    "def solution(routes):\n",
    "    answer = 0\n",
    "    routes.sort(key=lambda x: x[1]) # routes를 차량이 나간 지점 (진출) 기준으로 정렬\n",
    "    camera = -30001 # -30001부터 카메라 위치를 찾습니다.\n",
    "\n",
    "    for route in routes:\n",
    "        if camera < route[0]:\n",
    "            answer += 1\n",
    "            camera = route[1]\n",
    "    return answer"
   ]
  }
 ],
 "metadata": {
  "kernelspec": {
   "display_name": "Python 3 (ipykernel)",
   "language": "python",
   "name": "python3"
  },
  "language_info": {
   "codemirror_mode": {
    "name": "ipython",
    "version": 3
   },
   "file_extension": ".py",
   "mimetype": "text/x-python",
   "name": "python",
   "nbconvert_exporter": "python",
   "pygments_lexer": "ipython3",
   "version": "3.9.12"
  }
 },
 "nbformat": 4,
 "nbformat_minor": 5
}
