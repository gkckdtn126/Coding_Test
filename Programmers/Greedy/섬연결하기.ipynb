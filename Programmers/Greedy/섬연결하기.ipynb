{
 "cells": [
  {
   "cell_type": "code",
   "execution_count": 1,
   "id": "7d00453a",
   "metadata": {},
   "outputs": [],
   "source": [
    "n = 4\n",
    "costs = [[0,1,1],[0,2,2],[1,2,5],[1,3,1],[2,3,8]]"
   ]
  },
  {
   "cell_type": "code",
   "execution_count": 3,
   "id": "3bea4c4b",
   "metadata": {},
   "outputs": [
    {
     "name": "stdout",
     "output_type": "stream",
     "text": [
      "[[0, 1, 1], [1, 3, 1], [0, 2, 2], [1, 2, 5], [2, 3, 8]]\n",
      "[0]\n"
     ]
    }
   ],
   "source": [
    "costs.sort(key = lambda x: x[2])\n",
    "connection = [costs[0][0]]\n",
    "print(connection)"
   ]
  },
  {
   "cell_type": "code",
   "execution_count": 5,
   "id": "465fb82b",
   "metadata": {},
   "outputs": [
    {
     "name": "stdout",
     "output_type": "stream",
     "text": [
      "0\n",
      "[0, 1, 1]\n",
      "1\n",
      "[1, 3, 1]\n",
      "2\n",
      "[0, 2, 2]\n",
      "3\n",
      "[1, 2, 5]\n",
      "4\n",
      "[2, 3, 8]\n"
     ]
    }
   ],
   "source": [
    "for i,cost in enumerate(costs):\n",
    "    print(i)\n",
    "    print(cost)"
   ]
  },
  {
   "cell_type": "markdown",
   "id": "18296c3a",
   "metadata": {},
   "source": [
    "# 이게 제일 좋다?!"
   ]
  },
  {
   "cell_type": "code",
   "execution_count": 28,
   "id": "40862322",
   "metadata": {},
   "outputs": [],
   "source": [
    "n = 4\n",
    "costs = [[0,1,1],[0,2,2],[1,2,5],[1,3,1],[2,3,8]]"
   ]
  },
  {
   "cell_type": "code",
   "execution_count": 29,
   "id": "c5b88086",
   "metadata": {},
   "outputs": [
    {
     "name": "stdout",
     "output_type": "stream",
     "text": [
      "[[2, 3, 8], [1, 2, 5], [0, 2, 2], [0, 1, 1], [1, 3, 1]]\n"
     ]
    }
   ],
   "source": [
    "costs.sort(key = lambda x: x[2],reverse=True)\n",
    "print(costs)"
   ]
  },
  {
   "cell_type": "code",
   "execution_count": 30,
   "id": "5744ed01",
   "metadata": {},
   "outputs": [
    {
     "name": "stdout",
     "output_type": "stream",
     "text": [
      "[[0, 1, 1], [0, 2, 2], [1, 2, 5], [1, 3, 1], [2, 3, 8]]\n",
      "[[1, 3, 1], [0, 1, 1], [0, 2, 2], [1, 2, 5], [2, 3, 8]]\n"
     ]
    }
   ],
   "source": [
    "cost1 = sorted(costs)\n",
    "print(cost1)\n",
    "cost2 = reversed(costs)\n",
    "print(list(cost2))"
   ]
  },
  {
   "cell_type": "code",
   "execution_count": 4,
   "id": "a224166b",
   "metadata": {},
   "outputs": [],
   "source": [
    "def solution(n, costs):\n",
    "    answer = 0\n",
    "    costs.sort(key = lambda x: x[2])\n",
    "    connection = [costs[0][0]]\n",
    "    while len(connection) != n:\n",
    "        for i,cost in enumerate(costs):\n",
    "            if (cost[0] in connection) and (cost[1] in connection): continue\n",
    "            if (cost[0] in connection) or (cost[1] in connection):\n",
    "                answer += cost[2]\n",
    "                connection.append(cost[0])\n",
    "                connection.append(cost[1])\n",
    "                connection = list(set(connection))\n",
    "                costs.pop(i)\n",
    "                break\n",
    "    return answer"
   ]
  },
  {
   "cell_type": "code",
   "execution_count": null,
   "id": "0a592caf",
   "metadata": {},
   "outputs": [],
   "source": [
    "parent={}#각 노드의 부모\n",
    "rank={}#부모 포함 집합의 수(?)\n",
    "\n",
    "def make_set(v):#각 노드를 집합으로 만들기\n",
    "    parent[v]=v#일단 부모는 자기 자신\n",
    "    rank[v]=0#\n",
    "def find(v):\n",
    "    if parent[v]!=v:#부모가 자기 자신이 아니면\n",
    "        parent[v]=find(parent[v])#최상위의 부모로 갱신\n",
    "    return parent[v]#부모가 자기 자신이라면 최상위이므로 반환,v로 해도 되나?\n",
    "def union(v,u):\n",
    "    r1=find(v)#find()함수를 써서 노드 v에 대한 최상위 부모(root) 찾기\n",
    "    r2=find(u)\n",
    "    if r1!=r2:#루트값이 서로 다르면 다른 집합임\n",
    "        if rank[r1]>rank[r2]:#노드 수가 적은 집합의 루트가 노드 수가 많은 집합의 루트로 변경됨\n",
    "            parent[r2]=r1\n",
    "        else:\n",
    "            parent[r1]=r2\n",
    "            if rank[r1]==rank[r2]:#집합의 개수가 같다면\n",
    "                rank[r2]+=1#아무 집합의 수 늘리기..(?)\n",
    "def solution(n,costs):\n",
    "    for i in range(n):\n",
    "        make_set(i)\n",
    "    mst=[]\n",
    "    s=0\n",
    "    costs=sorted(costs,key=lambda costs:costs[2])#비용 기준으로 정렬\n",
    "    for j in costs:\n",
    "        v,u,w=j# v=노드1 u=노드2 w=비용\n",
    "        if find(v)!=find(u):#노드의 루트가 다르면\n",
    "            union(v,u)#두 노드를 하나의 집합으로 만듦\n",
    "            s+=w\n",
    "            #mst.append(j)\n",
    "    #return mst\n",
    "    return s"
   ]
  },
  {
   "cell_type": "code",
   "execution_count": 6,
   "id": "90921562",
   "metadata": {},
   "outputs": [
    {
     "data": {
      "text/plain": [
       "4"
      ]
     },
     "execution_count": 6,
     "metadata": {},
     "output_type": "execute_result"
    }
   ],
   "source": [
    "solution(n, costs)"
   ]
  },
  {
   "cell_type": "code",
   "execution_count": null,
   "id": "1bc8f29c",
   "metadata": {},
   "outputs": [],
   "source": []
  }
 ],
 "metadata": {
  "kernelspec": {
   "display_name": "Python 3 (ipykernel)",
   "language": "python",
   "name": "python3"
  },
  "language_info": {
   "codemirror_mode": {
    "name": "ipython",
    "version": 3
   },
   "file_extension": ".py",
   "mimetype": "text/x-python",
   "name": "python",
   "nbconvert_exporter": "python",
   "pygments_lexer": "ipython3",
   "version": "3.9.12"
  }
 },
 "nbformat": 4,
 "nbformat_minor": 5
}
