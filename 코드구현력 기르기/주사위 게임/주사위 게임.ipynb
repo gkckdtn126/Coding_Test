{
 "cells": [
  {
   "cell_type": "code",
   "execution_count": 8,
   "id": "59c02f3e",
   "metadata": {},
   "outputs": [
    {
     "name": "stdout",
     "output_type": "stream",
     "text": [
      "3\n",
      "3 3 6\n",
      "2 2 2\n",
      "6 2 5\n",
      "12000\n",
      "time 5.8420655727386475\n"
     ]
    }
   ],
   "source": [
    "n = int(input())\n",
    "import time\n",
    "start_time = time.time()\n",
    "number_total = []\n",
    "price_total = []\n",
    "for i in range(n):\n",
    "    number_total.append(list(map(int,input().split())))\n",
    "for i in range(n):\n",
    "    a = number_total[i]\n",
    "    b = set(a)\n",
    "    c = list(b)\n",
    "    if len(a)-len(c) == 2:\n",
    "        for i in range(len(c)):\n",
    "            if c[i] in a:\n",
    "                a.remove(c[i])\n",
    "        price = 10000+a[0]*1000\n",
    "        price_total.append(price)\n",
    "    elif len(a)-len(c) == 1:\n",
    "        for i in range(len(c)):\n",
    "            if c[i] in a:\n",
    "                a.remove(c[i])\n",
    "        price = 1000+a[0]*100\n",
    "        price_total.append(price)\n",
    "    else:\n",
    "        price = max(a)*100\n",
    "        price_total.append(price)\n",
    "print(max(price_total))\n",
    "end_time = time.time()\n",
    "print('time',end_time-start_time)\n",
    "    "
   ]
  },
  {
   "cell_type": "code",
   "execution_count": 10,
   "id": "875caa45",
   "metadata": {},
   "outputs": [
    {
     "name": "stdout",
     "output_type": "stream",
     "text": [
      "3\n",
      "3 3 6\n",
      "2 2 2\n",
      "6 2 5\n",
      "12000\n",
      "time 4.780364036560059\n"
     ]
    }
   ],
   "source": [
    "n = int(input())\n",
    "import time\n",
    "start_time = time.time()\n",
    "res = 0\n",
    "for i in range(n):\n",
    "    tmp = input().split()\n",
    "    tmp.sort()\n",
    "    a, b, c = map(int, tmp)\n",
    "    if a==b and b==c:\n",
    "        money = 10000+a*1000\n",
    "    elif a==b or a==c:\n",
    "        money = 1000+a*1000\n",
    "    elif b==c:\n",
    "        money = 1000+(b*100)\n",
    "    else:\n",
    "        money = c*100\n",
    "    if money > res:\n",
    "        res = money\n",
    "print(res)\n",
    "end_time = time.time()\n",
    "print('time',end_time-start_time)"
   ]
  }
 ],
 "metadata": {
  "kernelspec": {
   "display_name": "Python 3 (ipykernel)",
   "language": "python",
   "name": "python3"
  },
  "language_info": {
   "codemirror_mode": {
    "name": "ipython",
    "version": 3
   },
   "file_extension": ".py",
   "mimetype": "text/x-python",
   "name": "python",
   "nbconvert_exporter": "python",
   "pygments_lexer": "ipython3",
   "version": "3.9.12"
  }
 },
 "nbformat": 4,
 "nbformat_minor": 5
}
