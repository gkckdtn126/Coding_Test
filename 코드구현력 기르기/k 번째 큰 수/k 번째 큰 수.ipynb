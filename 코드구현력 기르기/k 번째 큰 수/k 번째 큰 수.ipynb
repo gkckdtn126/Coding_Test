{
 "cells": [
  {
   "cell_type": "markdown",
   "id": "a4c8ef38",
   "metadata": {},
   "source": [
    "# 내 코드"
   ]
  },
  {
   "cell_type": "code",
   "execution_count": 20,
   "id": "26b0d461",
   "metadata": {},
   "outputs": [
    {
     "name": "stdout",
     "output_type": "stream",
     "text": [
      "10 3\n",
      "13 15 34 23 45 65 33 11 26 42\n",
      "143\n"
     ]
    }
   ],
   "source": [
    "n,k = map(int,input().split())\n",
    "card = list(map(int,input().split()))\n",
    "case = []\n",
    "for i in range(n):\n",
    "    for j in range(i,n):\n",
    "        if i != j:\n",
    "            for w in range(j,n):\n",
    "                if j !=w:\n",
    "                    sub = [card[i],card[j],card[w]]\n",
    "                    case.append(sum(sub))\n",
    "\n",
    "case = set(case)\n",
    "case = list(case)\n",
    "case.sort()\n",
    "print(case[k*-1])"
   ]
  },
  {
   "cell_type": "code",
   "execution_count": 21,
   "id": "0bfd344c",
   "metadata": {},
   "outputs": [
    {
     "name": "stdout",
     "output_type": "stream",
     "text": [
      "10 3\n",
      "13 15 34 23 45 65 33 11 26 42\n",
      "143\n"
     ]
    }
   ],
   "source": [
    "n,k = map(int,input().split())\n",
    "card = list(map(int,input().split()))\n",
    "case = []\n",
    "for i in range(n):\n",
    "    for j in range(i+1,n):\n",
    "        for w in range(j+1,n):\n",
    "            sub = [card[i],card[j],card[w]]\n",
    "            case.append(sum(sub))\n",
    "\n",
    "case = set(case)\n",
    "case = list(case)\n",
    "case.sort()\n",
    "print(case[k*-1])"
   ]
  },
  {
   "cell_type": "markdown",
   "id": "3736149f",
   "metadata": {},
   "source": [
    "# 정답 \n",
    "#### set()으로 바꾸고, set은 a.add()가 append를 대신한다"
   ]
  },
  {
   "cell_type": "code",
   "execution_count": null,
   "id": "90a183a9",
   "metadata": {},
   "outputs": [],
   "source": [
    "n, k=map(int, input().split())\n",
    "a=list(map(int, input().split()))\n",
    "#처음부터 중복이 안들어간다. \n",
    "res=set() \n",
    "for i in range(n):\n",
    "    for j in range(i+1, n):\n",
    "        for m in range(j+1, n):\n",
    "            res.add(a[i]+a[j]+a[m])\n",
    "res=list(res)\n",
    "res.sort(reverse=True)\n",
    "print(res[k-1])"
   ]
  }
 ],
 "metadata": {
  "kernelspec": {
   "display_name": "Python 3 (ipykernel)",
   "language": "python",
   "name": "python3"
  },
  "language_info": {
   "codemirror_mode": {
    "name": "ipython",
    "version": 3
   },
   "file_extension": ".py",
   "mimetype": "text/x-python",
   "name": "python",
   "nbconvert_exporter": "python",
   "pygments_lexer": "ipython3",
   "version": "3.9.12"
  }
 },
 "nbformat": 4,
 "nbformat_minor": 5
}
