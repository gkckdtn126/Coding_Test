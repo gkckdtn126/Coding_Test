{
 "cells": [
  {
   "cell_type": "markdown",
   "id": "95f000ef",
   "metadata": {},
   "source": [
    "# i와 x 헷갈리지 않기!!"
   ]
  },
  {
   "cell_type": "code",
   "execution_count": null,
   "id": "17339381",
   "metadata": {},
   "outputs": [],
   "source": [
    "n = int(input())\n",
    "x = list(map(int,input().split()))\n",
    "def digit_sum(x):\n",
    "    sum_total_compare = 0\n",
    "    result = []\n",
    "    count = 0\n",
    "    for i in x:\n",
    "        i = str(i)\n",
    "        sum_total = []\n",
    "        for j in i:\n",
    "            sum_total.append(int(j))\n",
    "        result.append(sum(sum_total))\n",
    "    answer = max(result)\n",
    "    print(x[result.index(answer)])\n",
    "digit_sum(x)            "
   ]
  },
  {
   "cell_type": "markdown",
   "id": "51543fc9",
   "metadata": {},
   "source": [
    "# 수업 풀이 "
   ]
  },
  {
   "cell_type": "code",
   "execution_count": 7,
   "id": "64348bd0",
   "metadata": {},
   "outputs": [
    {
     "name": "stdout",
     "output_type": "stream",
     "text": [
      "125 15232 97\n",
      "97\n"
     ]
    }
   ],
   "source": [
    "a = list(map(int,input().split()))\n",
    "def digit_sum(x):\n",
    "    sum = 0\n",
    "    while x>0:\n",
    "        sum +=x%10 #몫과 나머지 이용함\n",
    "        x = x//10\n",
    "    return sum\n",
    "max = -2147000000\n",
    "for x in a:\n",
    "    tot = digit_sum(x)\n",
    "    if tot>max:\n",
    "        max=tot\n",
    "        res=x\n",
    "print(res)"
   ]
  },
  {
   "cell_type": "code",
   "execution_count": 8,
   "id": "5b470321",
   "metadata": {},
   "outputs": [
    {
     "name": "stdout",
     "output_type": "stream",
     "text": [
      "125 15232 97\n",
      "97\n"
     ]
    }
   ],
   "source": [
    "a = list(map(int,input().split()))\n",
    "def digit_sum(x):\n",
    "    sum = 0\n",
    "    for i in str(x):\n",
    "        sum += int(i)\n",
    "    return sum\n",
    "max = -2147000000\n",
    "for x in a:\n",
    "    tot = digit_sum(x)\n",
    "    if tot > max:\n",
    "        max=tot\n",
    "        res=x\n",
    "print(res)"
   ]
  }
 ],
 "metadata": {
  "kernelspec": {
   "display_name": "Python 3 (ipykernel)",
   "language": "python",
   "name": "python3"
  },
  "language_info": {
   "codemirror_mode": {
    "name": "ipython",
    "version": 3
   },
   "file_extension": ".py",
   "mimetype": "text/x-python",
   "name": "python",
   "nbconvert_exporter": "python",
   "pygments_lexer": "ipython3",
   "version": "3.9.12"
  }
 },
 "nbformat": 4,
 "nbformat_minor": 5
}
