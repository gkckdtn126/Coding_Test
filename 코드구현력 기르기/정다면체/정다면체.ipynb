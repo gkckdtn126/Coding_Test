{
 "cells": [
  {
   "cell_type": "markdown",
   "id": "d58f717f",
   "metadata": {},
   "source": [
    "# 내 코드"
   ]
  },
  {
   "cell_type": "code",
   "execution_count": 11,
   "id": "aceace3e",
   "metadata": {},
   "outputs": [
    {
     "name": "stdout",
     "output_type": "stream",
     "text": [
      "4 6\n",
      "5 6 7 "
     ]
    }
   ],
   "source": [
    "n,m = map(int,input().split())\n",
    "list_n = list(range(1,n+1))\n",
    "list_m = list(range(1,m+1))\n",
    "sum_total = []\n",
    "for i in list_n:\n",
    "    for j in list_m:\n",
    "        sum_total.append(i+j)\n",
    "count_total = []\n",
    "for index,value in enumerate(sum_total):\n",
    "    count_total.append(sum_total.count(value))\n",
    "index_total = []\n",
    "for index,value in enumerate(sum_total):\n",
    "    if sum_total.count(value) == max(count_total):\n",
    "        index_total.append(index)\n",
    "num = []\n",
    "for i in index_total:\n",
    "    num.append(sum_total[i])\n",
    "num = set(num)\n",
    "num = list(num)\n",
    "num.sort()\n",
    "for i in num:\n",
    "    print(i, end=' ')"
   ]
  },
  {
   "cell_type": "markdown",
   "id": "4a4d2755",
   "metadata": {},
   "source": [
    "# 수업 코드"
   ]
  },
  {
   "cell_type": "code",
   "execution_count": 12,
   "id": "fe544a24",
   "metadata": {},
   "outputs": [
    {
     "name": "stdout",
     "output_type": "stream",
     "text": [
      "4 6\n",
      "5 6 7 "
     ]
    }
   ],
   "source": [
    "n,m = map(int,input().split())\n",
    "cnt = [0]*(n+m+3)\n",
    "max = 0\n",
    "for i in range(1,n+1):\n",
    "    for j in range(1,m+1):\n",
    "        cnt[i+j] += 1\n",
    "for i in range(n+m+1):\n",
    "    if cnt[i]>max:\n",
    "        max = cnt[i]\n",
    "for i in range(n+m+1):\n",
    "    if cnt[i] == max:\n",
    "        print(i, end=' ')\n",
    "        "
   ]
  }
 ],
 "metadata": {
  "kernelspec": {
   "display_name": "Python 3 (ipykernel)",
   "language": "python",
   "name": "python3"
  },
  "language_info": {
   "codemirror_mode": {
    "name": "ipython",
    "version": 3
   },
   "file_extension": ".py",
   "mimetype": "text/x-python",
   "name": "python",
   "nbconvert_exporter": "python",
   "pygments_lexer": "ipython3",
   "version": "3.9.12"
  }
 },
 "nbformat": 4,
 "nbformat_minor": 5
}
