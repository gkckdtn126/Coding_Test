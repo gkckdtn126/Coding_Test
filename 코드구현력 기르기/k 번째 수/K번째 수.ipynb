{
 "cells": [
  {
   "cell_type": "code",
   "execution_count": 15,
   "id": "9b1bc3d6",
   "metadata": {},
   "outputs": [
    {
     "name": "stdout",
     "output_type": "stream",
     "text": [
      "2\n",
      "6 2 5 3\n",
      "5 2 7 3 8 9\n",
      "15 3 10 3\n",
      "4 15 8 16 6 6 17 3 10 11 18 7 14 7 15\n",
      "#1 7\n",
      "#2 6\n"
     ]
    }
   ],
   "source": [
    "t = int(input())\n",
    "case_total = []\n",
    "number_total = []\n",
    "for _ in range(t):\n",
    "    case = list(map(int,input().split()))\n",
    "    case_total.append(case)\n",
    "    number = list(map(int,input().split()))\n",
    "    number_total.append(number)\n",
    "def main(t,case_total,number_total):\n",
    "    for i in range(t):\n",
    "        sub_num = list(number_total[i][case_total[i][1]-1:case_total[i][2]])\n",
    "        sub_num.sort()\n",
    "        print(\"#%d\"%(i+1),sub_num[case_total[i][3]-1])\n",
    "main(t,case_total,number_total)\n"
   ]
  }
 ],
 "metadata": {
  "kernelspec": {
   "display_name": "Python 3 (ipykernel)",
   "language": "python",
   "name": "python3"
  },
  "language_info": {
   "codemirror_mode": {
    "name": "ipython",
    "version": 3
   },
   "file_extension": ".py",
   "mimetype": "text/x-python",
   "name": "python",
   "nbconvert_exporter": "python",
   "pygments_lexer": "ipython3",
   "version": "3.9.12"
  }
 },
 "nbformat": 4,
 "nbformat_minor": 5
}
