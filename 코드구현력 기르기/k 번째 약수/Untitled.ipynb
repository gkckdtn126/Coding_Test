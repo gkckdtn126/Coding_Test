{
 "cells": [
  {
   "cell_type": "code",
   "execution_count": 14,
   "id": "de10b2a4",
   "metadata": {},
   "outputs": [
    {
     "name": "stdout",
     "output_type": "stream",
     "text": [
      "6 5\n",
      "-1\n"
     ]
    }
   ],
   "source": [
    "import sys\n",
    "n,k = map(int,input().split())\n",
    "def main(n,k):\n",
    "    m_list = []\n",
    "    for x in range(1,n+1):\n",
    "        if n%x==0:\n",
    "            m_list.append(x)\n",
    "    if len(m_list)<k:\n",
    "        return -1\n",
    "    else:\n",
    "        return m_list[k-1]\n",
    "print(main(n,k))"
   ]
  },
  {
   "cell_type": "code",
   "execution_count": 13,
   "id": "1ac2af7a",
   "metadata": {},
   "outputs": [
    {
     "name": "stdout",
     "output_type": "stream",
     "text": [
      "25 5\n",
      "-1\n"
     ]
    }
   ],
   "source": [
    "n, k=map(int, input().split())\n",
    "cnt=0\n",
    "for i in range(1, n+1):\n",
    "    if n%i==0:\n",
    "        cnt+=1\n",
    "    if cnt==k:\n",
    "        print(i)\n",
    "        break\n",
    "else:\n",
    "    print(-1)"
   ]
  },
  {
   "cell_type": "code",
   "execution_count": null,
   "id": "e83a21d5",
   "metadata": {},
   "outputs": [],
   "source": []
  }
 ],
 "metadata": {
  "kernelspec": {
   "display_name": "Python 3 (ipykernel)",
   "language": "python",
   "name": "python3"
  },
  "language_info": {
   "codemirror_mode": {
    "name": "ipython",
    "version": 3
   },
   "file_extension": ".py",
   "mimetype": "text/x-python",
   "name": "python",
   "nbconvert_exporter": "python",
   "pygments_lexer": "ipython3",
   "version": "3.9.12"
  }
 },
 "nbformat": 4,
 "nbformat_minor": 5
}
