{
 "cells": [
  {
   "cell_type": "code",
   "execution_count": 25,
   "id": "1047ff03",
   "metadata": {},
   "outputs": [
    {
     "name": "stdout",
     "output_type": "stream",
     "text": [
      "2\n",
      "[0, 4, 5, 6, 7]\n"
     ]
    }
   ],
   "source": [
    "import math\n",
    "a = 2.5\n",
    "print(round(a))\n",
    "a = -2\n",
    "abs(a)\n",
    "lis = [1,2,3,5,1,1,1,1]\n",
    "b = [i for i, x in enumerate(lis) if x == 1]\n",
    "print(b)"
   ]
  },
  {
   "cell_type": "code",
   "execution_count": 27,
   "id": "e993cc5e",
   "metadata": {},
   "outputs": [
    {
     "name": "stdout",
     "output_type": "stream",
     "text": [
      "1.00\n"
     ]
    }
   ],
   "source": [
    "print('{:.2f}'.format(1.000)) "
   ]
  },
  {
   "cell_type": "code",
   "execution_count": 46,
   "id": "6e5d10b5",
   "metadata": {},
   "outputs": [
    {
     "name": "stdout",
     "output_type": "stream",
     "text": [
      "2.556\n",
      "3\n",
      "3\n"
     ]
    }
   ],
   "source": [
    "a = 2.555555\n",
    "print(round(a,3))\n",
    "a = a+0.5\n",
    "print(int(a))\n",
    "b = '{:.0f}'.format(2.55)\n",
    "print(b)"
   ]
  },
  {
   "cell_type": "markdown",
   "id": "d6b3db1c",
   "metadata": {},
   "source": [
    "# 내코드"
   ]
  },
  {
   "cell_type": "code",
   "execution_count": 24,
   "id": "8396bc08",
   "metadata": {},
   "outputs": [
    {
     "name": "stdout",
     "output_type": "stream",
     "text": [
      "20\n",
      "13 34 17 6 11 15 27 42 39 31 25 36 32 25 17 45 67 89 24 65\n",
      "33 2\n"
     ]
    }
   ],
   "source": [
    "n = int(input())\n",
    "score = list(map(int,input().split()))\n",
    "avg = round(sum(score)/n)\n",
    "gap_total = []\n",
    "student_number = []\n",
    "gap_not_total = []\n",
    "for i in score:\n",
    "    gap = abs(avg-i)\n",
    "    gap_not = i-avg\n",
    "    gap_total.append(gap)\n",
    "    gap_not_total.append(gap_not)\n",
    "student_number = [i for i, x in enumerate(gap_total) if x == min(gap_total)]\n",
    "for i in student_number:\n",
    "    if gap_not_total[i] < 0:\n",
    "        student_number.remove(i)\n",
    "if len(student_number)>1:\n",
    "    print(avg,min(student_number)+1)\n",
    "else:\n",
    "    print(avg,student_number[0]+1)        "
   ]
  },
  {
   "cell_type": "markdown",
   "id": "0a40f128",
   "metadata": {},
   "source": [
    "# 수업코드"
   ]
  },
  {
   "cell_type": "code",
   "execution_count": null,
   "id": "36ce2d09",
   "metadata": {},
   "outputs": [],
   "source": [
    "import sys\n",
    "#sys.stdin=open(\"input.txt\", \"r\")\n",
    "n=int(input())\n",
    "a=list(map(int, input().split()))\n",
    "ave=sum(a)/n\n",
    "ave = ave+0.5\n",
    "ave=int(ave)\n",
    "min=2147000000\n",
    "for idx, x in enumerate(a):\n",
    "    tmp=abs(x-ave)\n",
    "    if tmp<min:\n",
    "        min=tmp\n",
    "        score=x\n",
    "        res=idx+1\n",
    "    elif tmp==min:\n",
    "        if x>score:\n",
    "            score=x\n",
    "            res=idx+1\n",
    "print(ave, res)\n"
   ]
  }
 ],
 "metadata": {
  "kernelspec": {
   "display_name": "Python 3 (ipykernel)",
   "language": "python",
   "name": "python3"
  },
  "language_info": {
   "codemirror_mode": {
    "name": "ipython",
    "version": 3
   },
   "file_extension": ".py",
   "mimetype": "text/x-python",
   "name": "python",
   "nbconvert_exporter": "python",
   "pygments_lexer": "ipython3",
   "version": "3.9.12"
  }
 },
 "nbformat": 4,
 "nbformat_minor": 5
}
