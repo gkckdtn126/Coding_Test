{
 "cells": [
  {
   "cell_type": "code",
   "execution_count": 13,
   "id": "c6d572b7",
   "metadata": {},
   "outputs": [
    {
     "name": "stdout",
     "output_type": "stream",
     "text": [
      "10000\n",
      "1229\n",
      "time 2.5216386318206787\n"
     ]
    }
   ],
   "source": [
    "n = int(input())\n",
    "import time\n",
    "start_time = time.time()\n",
    "result = 0\n",
    "for i in range(2,n+1):\n",
    "    count = 0\n",
    "    if i%2 !=0:\n",
    "        for j in range(2,i):\n",
    "            if j%2 !=0:\n",
    "                if i%j == 0:\n",
    "                    count += 1\n",
    "        if count == 0:\n",
    "            result += 1\n",
    "print(result+1)\n",
    "end_time = time.time()\n",
    "print('time',end_time-start_time)"
   ]
  },
  {
   "cell_type": "markdown",
   "id": "a5c07fd6",
   "metadata": {},
   "source": [
    "# 수업 풀이"
   ]
  },
  {
   "cell_type": "code",
   "execution_count": 22,
   "id": "bbeb26b0",
   "metadata": {},
   "outputs": [
    {
     "name": "stdout",
     "output_type": "stream",
     "text": [
      "20\n",
      "21\n",
      "8\n",
      "time 0.0\n"
     ]
    }
   ],
   "source": [
    "n = int(input())\n",
    "import time\n",
    "start_time = time.time()\n",
    "ch = [0]*(n+1) #숫자를 맞추기 위해서 맨 앞 0을 만들어준다. \n",
    "print(len(ch))\n",
    "cnt = 0\n",
    "for i in range(2,n+1):\n",
    "    if ch[i] ==0:\n",
    "        cnt +=1\n",
    "        for j in range(i,n+1,i): #i의 배수만큼 뛰어넘으면서 1로 체크해줘라\n",
    "            ch[j] = 1\n",
    "print(cnt)\n",
    "end_time = time.time()\n",
    "print('time',end_time-start_time)\n"
   ]
  },
  {
   "cell_type": "code",
   "execution_count": null,
   "id": "6332ee0a",
   "metadata": {},
   "outputs": [],
   "source": []
  }
 ],
 "metadata": {
  "kernelspec": {
   "display_name": "Python 3 (ipykernel)",
   "language": "python",
   "name": "python3"
  },
  "language_info": {
   "codemirror_mode": {
    "name": "ipython",
    "version": 3
   },
   "file_extension": ".py",
   "mimetype": "text/x-python",
   "name": "python",
   "nbconvert_exporter": "python",
   "pygments_lexer": "ipython3",
   "version": "3.9.12"
  }
 },
 "nbformat": 4,
 "nbformat_minor": 5
}
