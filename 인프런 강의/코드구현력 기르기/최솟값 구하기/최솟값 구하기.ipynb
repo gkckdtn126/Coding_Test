{
 "cells": [
  {
   "cell_type": "code",
   "execution_count": 3,
   "id": "8e4163b9",
   "metadata": {},
   "outputs": [
    {
     "name": "stdout",
     "output_type": "stream",
     "text": [
      "2\n"
     ]
    }
   ],
   "source": [
    "arr = [5,3,7,9,2,5,2,6]\n",
    "arrMin = float('inf') #가장 최댓값\n",
    "for i in range(len(arr)):\n",
    "    if arr[i] < arrMin:\n",
    "        arrMin = arr[i]\n",
    "        \n",
    "print(arrMin)"
   ]
  },
  {
   "cell_type": "markdown",
   "id": "d2fa485b",
   "metadata": {},
   "source": [
    "## 아래 위 같은 코드임"
   ]
  },
  {
   "cell_type": "code",
   "execution_count": 4,
   "id": "38d58008",
   "metadata": {},
   "outputs": [
    {
     "name": "stdout",
     "output_type": "stream",
     "text": [
      "2\n"
     ]
    }
   ],
   "source": [
    "arr = [5,3,7,9,2,5,2,6]\n",
    "arrMin = arr[0]\n",
    "for i in range(1,len(arr)):\n",
    "    if arr[i] < arrMin:\n",
    "        arrMin = arr[i]\n",
    "        \n",
    "print(arrMin)"
   ]
  }
 ],
 "metadata": {
  "kernelspec": {
   "display_name": "Python 3 (ipykernel)",
   "language": "python",
   "name": "python3"
  },
  "language_info": {
   "codemirror_mode": {
    "name": "ipython",
    "version": 3
   },
   "file_extension": ".py",
   "mimetype": "text/x-python",
   "name": "python",
   "nbconvert_exporter": "python",
   "pygments_lexer": "ipython3",
   "version": "3.9.12"
  }
 },
 "nbformat": 4,
 "nbformat_minor": 5
}
