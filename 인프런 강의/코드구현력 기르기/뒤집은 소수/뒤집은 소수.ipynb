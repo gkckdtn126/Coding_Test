{
 "cells": [
  {
   "cell_type": "code",
   "execution_count": 9,
   "id": "8f3c313b",
   "metadata": {},
   "outputs": [
    {
     "name": "stdout",
     "output_type": "stream",
     "text": [
      "5\n",
      "32 55 62 3700 250\n",
      "23 73 "
     ]
    }
   ],
   "source": [
    "n = int(input())\n",
    "num = list(map(int,input().split()))\n",
    "def reverse(x):\n",
    "    sum = 0\n",
    "    x = str(x)\n",
    "    contain = []\n",
    "    for i in x:\n",
    "        contain.append(i)\n",
    "    contain.reverse()\n",
    "    for i in range(len(contain)):\n",
    "        value = int(contain[i])*10**(len(contain)-(i+1))\n",
    "        sum += value\n",
    "    return sum\n",
    "    \n",
    "def isPrime(x):\n",
    "    count = 0\n",
    "    for i in range(1,x+1):\n",
    "        if x%i==0:\n",
    "            count += 1\n",
    "    if count == 2:\n",
    "        isprime = True\n",
    "        return isprime\n",
    "for i in num:\n",
    "    number = reverse(i)\n",
    "    isprime = isPrime(number)\n",
    "    if isprime == True:\n",
    "        print(number,end = ' ')"
   ]
  },
  {
   "cell_type": "code",
   "execution_count": 11,
   "id": "da28c701",
   "metadata": {},
   "outputs": [
    {
     "name": "stdout",
     "output_type": "stream",
     "text": [
      "5\n",
      "32 55 62 3700 250\n",
      "23 73 "
     ]
    }
   ],
   "source": [
    "n = int(input())\n",
    "num = list(map(int,input().split()))\n",
    "def reverse(x):\n",
    "    sum = 0\n",
    "    x = str(x)\n",
    "    contain = []\n",
    "    for i in x:\n",
    "        contain.append(i)\n",
    "    contain.reverse()\n",
    "    for i in range(len(contain)):\n",
    "        value = int(contain[i])*10**(len(contain)-(i+1))\n",
    "        sum += value\n",
    "    return sum\n",
    "    \n",
    "def isPrime(x):\n",
    "    count = 0\n",
    "    if x ==1:\n",
    "        return False\n",
    "    for i in range(2,x//2+1):\n",
    "        if x%i==0:\n",
    "            return False\n",
    "    else:\n",
    "        return True\n",
    "for i in num:\n",
    "    number = reverse(i)\n",
    "    isprime = isPrime(number)\n",
    "    if isprime == True:\n",
    "        print(number,end = ' ')"
   ]
  },
  {
   "cell_type": "markdown",
   "id": "5a03e6ad",
   "metadata": {},
   "source": [
    "# 몫, 나머지 잘 활용하기"
   ]
  },
  {
   "cell_type": "code",
   "execution_count": 7,
   "id": "ec4270ca",
   "metadata": {},
   "outputs": [
    {
     "name": "stdout",
     "output_type": "stream",
     "text": [
      "5\n",
      "32 55 62 3700 250\n",
      "23 73 "
     ]
    }
   ],
   "source": [
    "n = int(input())\n",
    "a = list(map(int,input().split()))\n",
    "def reverse(x):\n",
    "    res = 0\n",
    "    while x>0:\n",
    "        t = x%10\n",
    "        res = res*10+t\n",
    "        x = x//10\n",
    "    return res\n",
    "def isPrime(x):\n",
    "    if x == 1:\n",
    "        return False\n",
    "    for i in range(2,x//2+1): #절반까지만 돌면 된다.2부터 약수 시작이니까 반부터 시작임 \n",
    "        if x%i == 0:\n",
    "            return False\n",
    "    else:\n",
    "        return True\n",
    "for x in a:\n",
    "    tmp = reverse(x)\n",
    "    if isPrime(tmp):\n",
    "        print(tmp, end = ' ')"
   ]
  },
  {
   "cell_type": "code",
   "execution_count": null,
   "id": "dfa8d639",
   "metadata": {},
   "outputs": [],
   "source": []
  }
 ],
 "metadata": {
  "kernelspec": {
   "display_name": "Python 3 (ipykernel)",
   "language": "python",
   "name": "python3"
  },
  "language_info": {
   "codemirror_mode": {
    "name": "ipython",
    "version": 3
   },
   "file_extension": ".py",
   "mimetype": "text/x-python",
   "name": "python",
   "nbconvert_exporter": "python",
   "pygments_lexer": "ipython3",
   "version": "3.9.12"
  }
 },
 "nbformat": 4,
 "nbformat_minor": 5
}
