{
 "cells": [
  {
   "cell_type": "markdown",
   "id": "64a65589",
   "metadata": {},
   "source": [
    "# 내 풀이"
   ]
  },
  {
   "cell_type": "code",
   "execution_count": 3,
   "id": "0aa5ce0b",
   "metadata": {},
   "outputs": [
    {
     "name": "stdout",
     "output_type": "stream",
     "text": [
      "10\n",
      "0 1 0 0 1 0 1 1 0 0 \n",
      "5\n",
      "time 0.0\n"
     ]
    }
   ],
   "source": [
    "n = int(input())\n",
    "check = list(map(int,input().split()))\n",
    "import time\n",
    "start_time = time.time()\n",
    "score = [0]*n\n",
    "for i in range(len(check)):\n",
    "    if i == 0 and check[i] == 1:\n",
    "        score[i] = 1\n",
    "    elif check[i] == 1 and check[i] != check[i-1]:\n",
    "        score[i] = 1\n",
    "    elif check[i]== 1 and check[i] == check[i-1]:\n",
    "        score[i] = score[i-1]+1\n",
    "    else:\n",
    "        score[i] = 0\n",
    "print(sum(score))\n",
    "end_time = time.time()\n",
    "print('time',end_time-start_time)"
   ]
  },
  {
   "cell_type": "markdown",
   "id": "10cc25e6",
   "metadata": {},
   "source": [
    "# 수업 풀이"
   ]
  },
  {
   "cell_type": "code",
   "execution_count": 4,
   "id": "5f6d8fbd",
   "metadata": {},
   "outputs": [
    {
     "name": "stdout",
     "output_type": "stream",
     "text": [
      "10\n",
      "0 1 0 0 1 0 1 1 0 0 \n",
      "5\n",
      "time 0.0\n"
     ]
    }
   ],
   "source": [
    "n = int(input())\n",
    "a = list(map(int,input().split()))\n",
    "import time\n",
    "start_time = time.time()\n",
    "sum = 0\n",
    "cnt = 0\n",
    "for x in a:\n",
    "    if x == 1:\n",
    "        cnt+=1\n",
    "        sum+=cnt\n",
    "    else:\n",
    "        cnt = 0\n",
    "print(sum)\n",
    "end_time = time.time()\n",
    "print('time',end_time-start_time)"
   ]
  },
  {
   "cell_type": "code",
   "execution_count": null,
   "id": "8232f59e",
   "metadata": {},
   "outputs": [],
   "source": []
  }
 ],
 "metadata": {
  "kernelspec": {
   "display_name": "Python 3 (ipykernel)",
   "language": "python",
   "name": "python3"
  },
  "language_info": {
   "codemirror_mode": {
    "name": "ipython",
    "version": 3
   },
   "file_extension": ".py",
   "mimetype": "text/x-python",
   "name": "python",
   "nbconvert_exporter": "python",
   "pygments_lexer": "ipython3",
   "version": "3.9.12"
  }
 },
 "nbformat": 4,
 "nbformat_minor": 5
}
