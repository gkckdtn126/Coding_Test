{
 "cells": [
  {
   "cell_type": "markdown",
   "id": "319ebe7f",
   "metadata": {},
   "source": [
    "# 변수 입력과 연산자"
   ]
  },
  {
   "cell_type": "code",
   "execution_count": 1,
   "id": "a87b748c",
   "metadata": {},
   "outputs": [
    {
     "name": "stdout",
     "output_type": "stream",
     "text": [
      "5\n",
      "5\n"
     ]
    }
   ],
   "source": [
    "a = input()\n",
    "print(a)"
   ]
  },
  {
   "cell_type": "code",
   "execution_count": 2,
   "id": "7fc8e427",
   "metadata": {},
   "outputs": [
    {
     "name": "stdout",
     "output_type": "stream",
     "text": [
      "숫자를 입력하세요 : 3\n",
      "3\n"
     ]
    }
   ],
   "source": [
    "a = input(\"숫자를 입력하세요 : \")\n",
    "print(a)"
   ]
  },
  {
   "cell_type": "markdown",
   "id": "3508d857",
   "metadata": {},
   "source": [
    "### 두개 변수 받기"
   ]
  },
  {
   "cell_type": "code",
   "execution_count": 9,
   "id": "578d723c",
   "metadata": {},
   "outputs": [
    {
     "name": "stdout",
     "output_type": "stream",
     "text": [
      "숫자를 입력하세요 : 2 3\n",
      "2 3\n",
      "23\n",
      "<class 'str'>\n",
      "<class 'str'>\n",
      "<class 'int'>\n",
      "<class 'int'>\n"
     ]
    }
   ],
   "source": [
    "a,b = input(\"숫자를 입력하세요 : \").split()\n",
    "# 띄어쓰기를 분리자로 분리한다. \n",
    "print(a,b)\n",
    "print(a+b)\n",
    "#여기서는 a,b 숫자 입력해도 문자형이다\n",
    "print(type(a))\n",
    "print(type(b))\n",
    "a = int(a)\n",
    "b = int(b)\n",
    "print(type(a))\n",
    "print(type(b))"
   ]
  },
  {
   "cell_type": "code",
   "execution_count": 11,
   "id": "7ef2ef92",
   "metadata": {},
   "outputs": [
    {
     "name": "stdout",
     "output_type": "stream",
     "text": [
      "숫자를 입력하세요 : 2 3\n",
      "5\n"
     ]
    }
   ],
   "source": [
    "a, b = map(int, input(\"숫자를 입력하세요 : \").split())\n",
    "#map에는 두개의 인자가 필요함 타입과 들어가는 인풋 !\n",
    "print(a+b)"
   ]
  },
  {
   "cell_type": "markdown",
   "id": "a7dfee68",
   "metadata": {},
   "source": [
    "## 사칙연산"
   ]
  },
  {
   "cell_type": "code",
   "execution_count": 1,
   "id": "4c97c0a0",
   "metadata": {},
   "outputs": [
    {
     "name": "stdout",
     "output_type": "stream",
     "text": [
      "숫자를 입력하세요 : 10 20\n",
      "10\n",
      "30\n",
      "-10\n",
      "200\n",
      "0.5\n",
      "0\n",
      "10\n",
      "100000000000000000000\n"
     ]
    }
   ],
   "source": [
    "a, b = map(int, input(\"숫자를 입력하세요 : \").split())\n",
    "#map에는 두개의 인자가 필요함 타입과 들어가는 인풋 !\n",
    "print(a)\n",
    "print(a+b)\n",
    "print(a-b)\n",
    "print(a*b)\n",
    "print(a/b)  #나눈 값\n",
    "print(a//b) # 몫\n",
    "print(a%b)  # 나머지\n",
    "print(a**b) # 거듭제곱"
   ]
  },
  {
   "cell_type": "code",
   "execution_count": 15,
   "id": "c233c80f",
   "metadata": {},
   "outputs": [
    {
     "name": "stdout",
     "output_type": "stream",
     "text": [
      "<class 'float'>\n"
     ]
    }
   ],
   "source": [
    "a = 4.3 \n",
    "b = 5\n",
    "c = a+b\n",
    "print(type(c))\n",
    "#넓은 범위로 나온다 실수+정수 하면 실수로 나옴 실수가 더 넓은 범위이니까"
   ]
  }
 ],
 "metadata": {
  "kernelspec": {
   "display_name": "Python 3 (ipykernel)",
   "language": "python",
   "name": "python3"
  },
  "language_info": {
   "codemirror_mode": {
    "name": "ipython",
    "version": 3
   },
   "file_extension": ".py",
   "mimetype": "text/x-python",
   "name": "python",
   "nbconvert_exporter": "python",
   "pygments_lexer": "ipython3",
   "version": "3.9.12"
  }
 },
 "nbformat": 4,
 "nbformat_minor": 5
}
