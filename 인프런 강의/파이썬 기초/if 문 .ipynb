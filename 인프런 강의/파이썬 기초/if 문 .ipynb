{
 "cells": [
  {
   "cell_type": "markdown",
   "id": "5a2fbf1b",
   "metadata": {},
   "source": [
    "### 조건문 if"
   ]
  },
  {
   "cell_type": "code",
   "execution_count": 5,
   "id": "e34faf48",
   "metadata": {},
   "outputs": [
    {
     "name": "stdout",
     "output_type": "stream",
     "text": [
      "lucky\n",
      "ㅋㅋ\n",
      "lucky\n",
      "ㅋㅋ\n"
     ]
    }
   ],
   "source": [
    "x = 7\n",
    "if x==7:\n",
    "    print(\"lucky\")\n",
    "    print(\"ㅋㅋ\")\n",
    "    #기본적으로 들여쓰기는 네칸\n",
    "if x!=6: # 같지 않다 \n",
    "    print(\"lucky\")\n",
    "    print(\"ㅋㅋ\")\n",
    "    #기본적으로 들여쓰기는 네칸\n",
    "    "
   ]
  },
  {
   "cell_type": "markdown",
   "id": "562240ae",
   "metadata": {},
   "source": [
    "### 중첩"
   ]
  },
  {
   "cell_type": "code",
   "execution_count": 6,
   "id": "38ab307b",
   "metadata": {},
   "outputs": [
    {
     "name": "stdout",
     "output_type": "stream",
     "text": [
      "10이상의 홀수\n"
     ]
    }
   ],
   "source": [
    "x = 15\n",
    "if x >= 10:\n",
    "    if x%2==1:\n",
    "        print(\"10이상의 홀수\")"
   ]
  },
  {
   "cell_type": "code",
   "execution_count": 7,
   "id": "ea3fdec2",
   "metadata": {},
   "outputs": [
    {
     "name": "stdout",
     "output_type": "stream",
     "text": [
      "10보다 작은 자연수\n"
     ]
    }
   ],
   "source": [
    "x = 9\n",
    "if x > 0:\n",
    "    if x<10:\n",
    "        print(\"10보다 작은 자연수\")"
   ]
  },
  {
   "cell_type": "markdown",
   "id": "c1add0b8",
   "metadata": {},
   "source": [
    "### 교집합 연산자 and "
   ]
  },
  {
   "cell_type": "code",
   "execution_count": 10,
   "id": "b3f8a087",
   "metadata": {},
   "outputs": [
    {
     "name": "stdout",
     "output_type": "stream",
     "text": [
      "10보다 작은 자연수\n"
     ]
    }
   ],
   "source": [
    "x = 7\n",
    "if x > 0 and x<10:\n",
    "    print(\"10보다 작은 자연수\")\n",
    "    #위에 구조랑 똑같은 것 "
   ]
  },
  {
   "cell_type": "code",
   "execution_count": 12,
   "id": "c425a6ab",
   "metadata": {},
   "outputs": [
    {
     "name": "stdout",
     "output_type": "stream",
     "text": [
      "10보다 작은 자연수\n"
     ]
    }
   ],
   "source": [
    "x = 7\n",
    "if 0<x<10:\n",
    "    print(\"10보다 작은 자연수\")\n",
    "    #위에 구조랑 똑같다 파이썬 구조에서만 가능"
   ]
  },
  {
   "cell_type": "code",
   "execution_count": 14,
   "id": "fddd5257",
   "metadata": {},
   "outputs": [
    {
     "name": "stdout",
     "output_type": "stream",
     "text": [
      "양수\n"
     ]
    }
   ],
   "source": [
    "x = 10\n",
    "if x > 0:\n",
    "    print(\"양수\")\n",
    "else:\n",
    "    print(\"음수\")"
   ]
  },
  {
   "cell_type": "code",
   "execution_count": 18,
   "id": "ad9f4eed",
   "metadata": {},
   "outputs": [
    {
     "name": "stdout",
     "output_type": "stream",
     "text": [
      "A\n"
     ]
    }
   ],
   "source": [
    "x = 100\n",
    "if x>90:\n",
    "    print('A')\n",
    "elif x>=80:\n",
    "    print('B')\n",
    "elif x>=70:\n",
    "    print(\"C\")\n",
    "elif x>=60:\n",
    "    print(\"D\")\n",
    "else:\n",
    "    print(\"F\")\n",
    "#위에서부터 첫번째 참이 걸리면 끝나는거임\n",
    "# if 각자 따로 출력하면 안된다. "
   ]
  },
  {
   "cell_type": "code",
   "execution_count": 20,
   "id": "35727c59",
   "metadata": {},
   "outputs": [
    {
     "name": "stdout",
     "output_type": "stream",
     "text": [
      "A\n",
      "B\n",
      "C\n"
     ]
    }
   ],
   "source": [
    "x = 100\n",
    "if x>90:\n",
    "    print('A')\n",
    "if x>=80:\n",
    "    print('B')\n",
    "if x>=70:\n",
    "    print(\"C\")\n",
    "#한번에 다 출력됨 "
   ]
  }
 ],
 "metadata": {
  "kernelspec": {
   "display_name": "Python 3 (ipykernel)",
   "language": "python",
   "name": "python3"
  },
  "language_info": {
   "codemirror_mode": {
    "name": "ipython",
    "version": 3
   },
   "file_extension": ".py",
   "mimetype": "text/x-python",
   "name": "python",
   "nbconvert_exporter": "python",
   "pygments_lexer": "ipython3",
   "version": "3.9.12"
  }
 },
 "nbformat": 4,
 "nbformat_minor": 5
}
