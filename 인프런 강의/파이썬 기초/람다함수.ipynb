{
 "cells": [
  {
   "cell_type": "markdown",
   "id": "2de969b2",
   "metadata": {},
   "source": [
    "### 람다함수, 익명의 함수, 람다 표현식"
   ]
  },
  {
   "cell_type": "markdown",
   "id": "80ded1b5",
   "metadata": {},
   "source": [
    "### 기본 함수"
   ]
  },
  {
   "cell_type": "code",
   "execution_count": 4,
   "id": "be924214",
   "metadata": {},
   "outputs": [
    {
     "name": "stdout",
     "output_type": "stream",
     "text": [
      "2\n"
     ]
    }
   ],
   "source": [
    "def plus_one(x):\n",
    "    return x+1\n",
    "print(plus_one(1))\n",
    "#이거는 함수를 만들어서 함수를 호출한 것 "
   ]
  },
  {
   "cell_type": "markdown",
   "id": "360f4231",
   "metadata": {},
   "source": [
    "### 람다함수"
   ]
  },
  {
   "cell_type": "code",
   "execution_count": 5,
   "id": "2e640b46",
   "metadata": {},
   "outputs": [
    {
     "name": "stdout",
     "output_type": "stream",
     "text": [
      "3\n"
     ]
    }
   ],
   "source": [
    "plus_two = lambda x: x+2 #plus_two는 변수이름\n",
    "print(plus_two(1))"
   ]
  },
  {
   "cell_type": "code",
   "execution_count": 9,
   "id": "72877dfe",
   "metadata": {},
   "outputs": [
    {
     "name": "stdout",
     "output_type": "stream",
     "text": [
      "[2, 3, 4]\n",
      "[2, 3, 4]\n"
     ]
    }
   ],
   "source": [
    "a = [1,2,3]\n",
    "print(list(map(plus_one,a))) #map은 앞이 함수가 뒤에가 자료\n",
    "\n",
    "a = [1,2,3]\n",
    "print(list(map(lambda x:x+1,a))) #sort를 어떤식으로 정렬해서 쓸건지에 대해서 key 정할 때 lambda를 쓴다. "
   ]
  }
 ],
 "metadata": {
  "kernelspec": {
   "display_name": "Python 3 (ipykernel)",
   "language": "python",
   "name": "python3"
  },
  "language_info": {
   "codemirror_mode": {
    "name": "ipython",
    "version": 3
   },
   "file_extension": ".py",
   "mimetype": "text/x-python",
   "name": "python",
   "nbconvert_exporter": "python",
   "pygments_lexer": "ipython3",
   "version": "3.9.12"
  }
 },
 "nbformat": 4,
 "nbformat_minor": 5
}
