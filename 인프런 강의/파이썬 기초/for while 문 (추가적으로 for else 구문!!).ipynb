{
 "cells": [
  {
   "cell_type": "markdown",
   "id": "4ca837b7",
   "metadata": {},
   "source": [
    "### for 문"
   ]
  },
  {
   "cell_type": "code",
   "execution_count": 4,
   "id": "29677d62",
   "metadata": {},
   "outputs": [
    {
     "name": "stdout",
     "output_type": "stream",
     "text": [
      "range(0, 10)\n",
      "[0, 1, 2, 3, 4, 5, 6, 7, 8, 9]\n"
     ]
    }
   ],
   "source": [
    "#range는 순차적으로 정수 리스트를 만드는 것\n",
    "a = range(10)\n",
    "print(a)\n",
    "a = list(a)\n",
    "print(a)"
   ]
  },
  {
   "cell_type": "code",
   "execution_count": 6,
   "id": "8c18a41f",
   "metadata": {},
   "outputs": [
    {
     "name": "stdout",
     "output_type": "stream",
     "text": [
      "hello\n",
      "0\n",
      "hello\n",
      "1\n",
      "hello\n",
      "2\n",
      "hello\n",
      "3\n",
      "hello\n",
      "4\n",
      "hello\n",
      "5\n",
      "hello\n",
      "6\n",
      "hello\n",
      "7\n",
      "hello\n",
      "8\n",
      "hello\n",
      "9\n"
     ]
    }
   ],
   "source": [
    "for i in range(10):\n",
    "    print(\"hello\")\n",
    "    print(i)\n",
    "    #10번을 반복한다 0부터 9까지"
   ]
  },
  {
   "cell_type": "code",
   "execution_count": 7,
   "id": "935bc0f7",
   "metadata": {},
   "outputs": [],
   "source": [
    "for i in range(10,0):\n",
    "    print(\"hello\")\n",
    "    print(i)\n",
    "    #10번을 반복한다 0부터 9까지"
   ]
  },
  {
   "cell_type": "markdown",
   "id": "615f9cb9",
   "metadata": {},
   "source": [
    "### 반대로 작아지는거"
   ]
  },
  {
   "cell_type": "code",
   "execution_count": 9,
   "id": "f76a93c2",
   "metadata": {},
   "outputs": [
    {
     "name": "stdout",
     "output_type": "stream",
     "text": [
      "hello\n",
      "10\n",
      "hello\n",
      "9\n",
      "hello\n",
      "8\n",
      "hello\n",
      "7\n",
      "hello\n",
      "6\n",
      "hello\n",
      "5\n",
      "hello\n",
      "4\n",
      "hello\n",
      "3\n",
      "hello\n",
      "2\n",
      "hello\n",
      "1\n"
     ]
    }
   ],
   "source": [
    "#반대로 작아지는거 마지막에 -1씩 작아져라고 적어줘야함 안적어주면 아무일도 안일어남 \n",
    "for i in range(10,0,-1):\n",
    "    print(\"hello\")\n",
    "    print(i)\n",
    "    #10번을 반복한다 0부터 9까지"
   ]
  },
  {
   "cell_type": "markdown",
   "id": "bb1de6a2",
   "metadata": {},
   "source": [
    "###  while"
   ]
  },
  {
   "cell_type": "code",
   "execution_count": 11,
   "id": "792dd302",
   "metadata": {},
   "outputs": [
    {
     "name": "stdout",
     "output_type": "stream",
     "text": [
      "1\n",
      "2\n",
      "3\n",
      "4\n",
      "5\n",
      "6\n",
      "7\n",
      "8\n",
      "9\n",
      "10\n"
     ]
    }
   ],
   "source": [
    "i = 1\n",
    "while i <= 10:\n",
    "    print(i)\n",
    "    i += 1"
   ]
  },
  {
   "cell_type": "code",
   "execution_count": 13,
   "id": "8b13448c",
   "metadata": {},
   "outputs": [
    {
     "name": "stdout",
     "output_type": "stream",
     "text": [
      "10\n",
      "9\n",
      "8\n",
      "7\n",
      "6\n",
      "5\n",
      "4\n",
      "3\n",
      "2\n",
      "1\n"
     ]
    }
   ],
   "source": [
    "i = 10\n",
    "while i >=1:\n",
    "    print(i)\n",
    "    i -=1"
   ]
  },
  {
   "cell_type": "markdown",
   "id": "8de06fdf",
   "metadata": {},
   "source": [
    "### break"
   ]
  },
  {
   "cell_type": "code",
   "execution_count": 16,
   "id": "36d112b2",
   "metadata": {},
   "outputs": [
    {
     "name": "stdout",
     "output_type": "stream",
     "text": [
      "1\n",
      "2\n",
      "3\n",
      "4\n",
      "5\n",
      "6\n",
      "7\n",
      "8\n",
      "9\n",
      "10\n"
     ]
    }
   ],
   "source": [
    "i = 1\n",
    "while True: # 무한 반복\n",
    "    print(i)\n",
    "    if i == 10:\n",
    "        break\n",
    "        #그 순간에 while을 빠져나가라\n",
    "    i += 1"
   ]
  },
  {
   "cell_type": "markdown",
   "id": "707965c2",
   "metadata": {},
   "source": [
    "### continue"
   ]
  },
  {
   "cell_type": "code",
   "execution_count": 18,
   "id": "829ca37e",
   "metadata": {},
   "outputs": [
    {
     "name": "stdout",
     "output_type": "stream",
     "text": [
      "1\n",
      "3\n",
      "5\n",
      "7\n",
      "9\n"
     ]
    }
   ],
   "source": [
    "for i in range(1,11):\n",
    "    if i%2==0:\n",
    "        continue #continue 밑에거는 다 지나가고 다시 돌아라\n",
    "    print(i)"
   ]
  },
  {
   "cell_type": "markdown",
   "id": "1e07d32a",
   "metadata": {},
   "source": [
    "### for else 구문"
   ]
  },
  {
   "cell_type": "code",
   "execution_count": 19,
   "id": "10b64732",
   "metadata": {},
   "outputs": [
    {
     "name": "stdout",
     "output_type": "stream",
     "text": [
      "1\n",
      "2\n",
      "3\n",
      "4\n",
      "5\n"
     ]
    }
   ],
   "source": [
    "for i in range(1,11):\n",
    "    print(i)\n",
    "    if i==5:\n",
    "        break\n",
    "else:\n",
    "    print(11)\n",
    "#for else 구문도 있다. for가 비정상적으로 작동이 끝났으면 else를 돌리지 말고, 만약 정상적으로 끝났으면 else를 돌려라\n",
    "    "
   ]
  },
  {
   "cell_type": "code",
   "execution_count": 20,
   "id": "2edb90f8",
   "metadata": {},
   "outputs": [
    {
     "name": "stdout",
     "output_type": "stream",
     "text": [
      "1\n",
      "2\n",
      "3\n",
      "4\n",
      "5\n",
      "6\n",
      "7\n",
      "8\n",
      "9\n",
      "10\n",
      "11\n"
     ]
    }
   ],
   "source": [
    "for i in range(1,11):\n",
    "    print(i)\n",
    "    if i==12:\n",
    "        break\n",
    "else:\n",
    "    print(11)"
   ]
  },
  {
   "cell_type": "code",
   "execution_count": 21,
   "id": "4bd680b9",
   "metadata": {},
   "outputs": [
    {
     "name": "stdout",
     "output_type": "stream",
     "text": [
      "1\n",
      "2\n",
      "3\n",
      "4\n",
      "5\n",
      "6\n",
      "7\n",
      "8\n",
      "9\n",
      "10\n",
      "11\n"
     ]
    }
   ],
   "source": [
    "for i in range(1,11):\n",
    "    print(i)\n",
    "else:\n",
    "    print(11)"
   ]
  },
  {
   "cell_type": "code",
   "execution_count": null,
   "id": "5ac3ba71",
   "metadata": {},
   "outputs": [],
   "source": []
  }
 ],
 "metadata": {
  "kernelspec": {
   "display_name": "Python 3 (ipykernel)",
   "language": "python",
   "name": "python3"
  },
  "language_info": {
   "codemirror_mode": {
    "name": "ipython",
    "version": 3
   },
   "file_extension": ".py",
   "mimetype": "text/x-python",
   "name": "python",
   "nbconvert_exporter": "python",
   "pygments_lexer": "ipython3",
   "version": "3.9.12"
  }
 },
 "nbformat": 4,
 "nbformat_minor": 5
}
