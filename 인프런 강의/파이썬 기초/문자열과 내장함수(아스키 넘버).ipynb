{
 "cells": [
  {
   "cell_type": "markdown",
   "id": "61177136",
   "metadata": {},
   "source": [
    "### 문자열과 내장함수"
   ]
  },
  {
   "cell_type": "code",
   "execution_count": 18,
   "id": "be363aa2",
   "metadata": {},
   "outputs": [
    {
     "name": "stdout",
     "output_type": "stream",
     "text": [
      "IT IS TIME\n",
      "it is time\n",
      "It is Time\n",
      "IT IS TIME\n",
      "1\n",
      "8\n",
      "2\n",
      "It\n",
      "is\n",
      "10\n",
      "I t   i s   T i m e \n",
      "I t   i s   T i m e \n"
     ]
    }
   ],
   "source": [
    "msg = \"It is Time\"\n",
    "print(msg.upper()) #대분자로 만들기\n",
    "print(msg.lower()) #소문자로 만들기\n",
    "print(msg)\n",
    "tmp = msg.upper()\n",
    "print(tmp)\n",
    "print(tmp.find('T')) #T를 찾아서 index번호를 알려준다, 처음 나오는 T의  index를 알려줌\n",
    "print(tmp.find('M'))\n",
    "print(tmp.count('T')) # T가 몇개인지 찾아라\n",
    "print(msg[:2]) #처음부터 2번 전까지 0번부터 1번까지 슬라이싱\n",
    "print(msg[3:5])\n",
    "print(len(msg)) #문자열 길이\n",
    "for i in range(len(msg)):\n",
    "    print(msg[i],end=' ')\n",
    "print()\n",
    "for x in msg:\n",
    "    print(x,end=' ')\n",
    "print()"
   ]
  },
  {
   "cell_type": "markdown",
   "id": "3b7dedb4",
   "metadata": {},
   "source": [
    "### 대문자인지 소문자인지 True false 판별"
   ]
  },
  {
   "cell_type": "code",
   "execution_count": 25,
   "id": "16a40b45",
   "metadata": {},
   "outputs": [
    {
     "name": "stdout",
     "output_type": "stream",
     "text": [
      "I tisT ime\n"
     ]
    }
   ],
   "source": [
    "for x in msg:\n",
    "    if x.isupper(): #대문자면 참이 된다.\n",
    "        print(x,end=' ')\n",
    "    elif x.islower(): #소문자면 참이 된다. \n",
    "        print(x, end='')\n",
    "print()"
   ]
  },
  {
   "cell_type": "markdown",
   "id": "48bfd16a",
   "metadata": {},
   "source": [
    "### 문자열만 가져오고 공백 무시하기"
   ]
  },
  {
   "cell_type": "code",
   "execution_count": 26,
   "id": "8e26415f",
   "metadata": {},
   "outputs": [
    {
     "name": "stdout",
     "output_type": "stream",
     "text": [
      "ItisTime\n"
     ]
    }
   ],
   "source": [
    "for x in msg:\n",
    "    if x.isalpha(): #문자열만 가져와라\n",
    "        print(x, end='')\n",
    "print()"
   ]
  },
  {
   "cell_type": "markdown",
   "id": "156e09b9",
   "metadata": {},
   "source": [
    "### 아스키 넘버를 출력"
   ]
  },
  {
   "cell_type": "code",
   "execution_count": 29,
   "id": "4292f0f2",
   "metadata": {},
   "outputs": [
    {
     "name": "stdout",
     "output_type": "stream",
     "text": [
      "65\n",
      "90\n",
      "97\n",
      "122\n",
      "A\n"
     ]
    }
   ],
   "source": [
    "tmp = 'AZ'\n",
    "for x in tmp:\n",
    "    print(ord(x)) #아스키 넘버를 출력해준다. A~Z A가 65 Z가 90\n",
    "tmp = 'az'\n",
    "for x in tmp:\n",
    "    print(ord(x)) #아스키 넘버를 출력해준다. a~z a가 97 Z가 122\n",
    "tmp = 65\n",
    "print(chr(tmp)) #아스키 넘버에 맞는 문자를 보여준다. "
   ]
  }
 ],
 "metadata": {
  "kernelspec": {
   "display_name": "Python 3 (ipykernel)",
   "language": "python",
   "name": "python3"
  },
  "language_info": {
   "codemirror_mode": {
    "name": "ipython",
    "version": 3
   },
   "file_extension": ".py",
   "mimetype": "text/x-python",
   "name": "python",
   "nbconvert_exporter": "python",
   "pygments_lexer": "ipython3",
   "version": "3.9.12"
  }
 },
 "nbformat": 4,
 "nbformat_minor": 5
}
