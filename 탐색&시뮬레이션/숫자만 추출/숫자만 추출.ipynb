{
 "cells": [
  {
   "cell_type": "code",
   "execution_count": 10,
   "id": "b7707800",
   "metadata": {},
   "outputs": [
    {
     "name": "stdout",
     "output_type": "stream",
     "text": [
      "g0en2Ts8eSoft\n",
      "28\n",
      "6\n"
     ]
    }
   ],
   "source": [
    "s = input() #string은 그냥 input으로 받으면 됨\n",
    "res = 0\n",
    "for x in s:\n",
    "    if x.isdecimal():   #isdigit()은 모든 숫자 다 찾아주는거고 isdecimal()은 0~9까지만 찾아준다. \n",
    "        res = res*10+int(x) #첫자리 0은 무시가 된다.\n",
    "print(res)\n",
    "cnt = 0\n",
    "for i in range(1,res+1):\n",
    "    if res%i==0:\n",
    "        cnt += 1\n",
    "print(cnt)"
   ]
  }
 ],
 "metadata": {
  "kernelspec": {
   "display_name": "Python 3 (ipykernel)",
   "language": "python",
   "name": "python3"
  },
  "language_info": {
   "codemirror_mode": {
    "name": "ipython",
    "version": 3
   },
   "file_extension": ".py",
   "mimetype": "text/x-python",
   "name": "python",
   "nbconvert_exporter": "python",
   "pygments_lexer": "ipython3",
   "version": "3.9.13"
  }
 },
 "nbformat": 4,
 "nbformat_minor": 5
}
