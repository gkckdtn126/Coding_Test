{
 "cells": [
  {
   "cell_type": "markdown",
   "id": "b54d17b0",
   "metadata": {},
   "source": [
    "### 2차원 리스트 생성과 접근"
   ]
  },
  {
   "cell_type": "code",
   "execution_count": 8,
   "id": "acbd126a",
   "metadata": {},
   "outputs": [
    {
     "name": "stdout",
     "output_type": "stream",
     "text": [
      "[0, 0, 0, 0, 0, 0, 0, 0, 0, 0]\n",
      "[[0, 0, 0], [0, 0, 0], [0, 0, 0]]\n",
      "[[0, 1, 0], [0, 0, 0], [0, 0, 0]]\n",
      "[[0, 1, 0], [0, 2, 0], [0, 0, 0]]\n",
      "[0, 1, 0]\n",
      "[0, 2, 0]\n",
      "[0, 0, 0]\n",
      "0 1 0 \n",
      "0 2 0 \n",
      "0 0 0 \n"
     ]
    }
   ],
   "source": [
    "a = [0]*10\n",
    "print(a)\n",
    "b = [[0]*3 for _ in range(3)] #2차원 리스트 안에 1차원 리스트 3개\n",
    "print(b)\n",
    "b[0][1] = 1\n",
    "print(b)\n",
    "b[1][1] = 2\n",
    "print(b)\n",
    "\n",
    "for x in b: #행별로 출력된다\n",
    "    print(x)\n",
    "\n",
    "for x in b:\n",
    "    for y in x:\n",
    "        print(y,end=' ')\n",
    "    print()\n",
    "    "
   ]
  }
 ],
 "metadata": {
  "kernelspec": {
   "display_name": "Python 3 (ipykernel)",
   "language": "python",
   "name": "python3"
  },
  "language_info": {
   "codemirror_mode": {
    "name": "ipython",
    "version": 3
   },
   "file_extension": ".py",
   "mimetype": "text/x-python",
   "name": "python",
   "nbconvert_exporter": "python",
   "pygments_lexer": "ipython3",
   "version": "3.9.12"
  }
 },
 "nbformat": 4,
 "nbformat_minor": 5
}
