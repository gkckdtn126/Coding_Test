{
 "cells": [
  {
   "cell_type": "markdown",
   "id": "02eb04bf",
   "metadata": {},
   "source": [
    "### 리스트와 내장함수"
   ]
  },
  {
   "cell_type": "markdown",
   "id": "d30319a8",
   "metadata": {},
   "source": [
    "### a.append(1),a.insert(3,7),a.pop(),a.pop(1),a.remove(4),c.index(3)"
   ]
  },
  {
   "cell_type": "code",
   "execution_count": 24,
   "id": "257acb62",
   "metadata": {},
   "outputs": [
    {
     "name": "stdout",
     "output_type": "stream",
     "text": [
      "[]\n",
      "[]\n",
      "[1, 2, 3, 4, 5]\n",
      "[10, 9, 8, 7, 6, 5, 4, 3, 2, 1]\n",
      "[1, 2, 3, 4, 5, 10, 9, 8, 7, 6, 5, 4, 3, 2, 1]\n",
      "[1, 2, 3, 4, 5, 6]\n",
      "[1, 2, 3, 7, 4, 5, 6]\n",
      "[1, 2, 3, 7, 4, 5]\n",
      "[1, 2, 3, 4, 5]\n",
      "[1, 2, 3, 5]\n",
      "3\n"
     ]
    }
   ],
   "source": [
    "import random as r\n",
    "a = []\n",
    "print(a) #빈 리스트\n",
    "b = list()  #빈 리스트 만드는 방법 2\n",
    "print(b)\n",
    "c = [1,2,3,4,5]\n",
    "print(c)\n",
    "d = list(range(10,0,-1))\n",
    "print(d)\n",
    "e = c+d #리스트 합치기 \n",
    "print(e)\n",
    "c.append(6) #추가하기\n",
    "print(c)\n",
    "c.insert(3,7) #3번 인덱스에 7이 들어감 \n",
    "print(c)\n",
    "c.pop() #맨뒤에꺼 빼내기\n",
    "print(c)\n",
    "c.pop(3) #인덱스 번호 넣으면 3번 인덱스에 있는 것이 사라짐\n",
    "print(c)\n",
    "c.remove(4) #특정 값을 제거한다. \n",
    "print(c)\n",
    "print(c.index(5)) #특정값의 인덱스번호를 알려줌"
   ]
  },
  {
   "cell_type": "markdown",
   "id": "0b6cbf6b",
   "metadata": {},
   "source": [
    "### sum(a),max(a),min(a),min(1,2,3...),a.sort(), a.sort(reverse=True), a.clear"
   ]
  },
  {
   "cell_type": "code",
   "execution_count": 36,
   "id": "5a51b618",
   "metadata": {},
   "outputs": [
    {
     "name": "stdout",
     "output_type": "stream",
     "text": [
      "[1, 2, 3, 4, 5, 6, 7, 8, 9, 10]\n",
      "55\n",
      "10\n",
      "1\n",
      "5\n",
      "3\n",
      "[10, 9, 3, 7, 5, 8, 1, 6, 4, 2]\n",
      "[1, 2, 3, 4, 5, 6, 7, 8, 9, 10]\n",
      "[10, 9, 8, 7, 6, 5, 4, 3, 2, 1]\n",
      "[]\n"
     ]
    }
   ],
   "source": [
    "a = list(range(1,11))\n",
    "print(a)\n",
    "print(sum(a)) #a에 있는걸 다 합해줘라\n",
    "print(max(a)) #a에 있는 최대값\n",
    "print(min(a)) #a에 있는 최소값\n",
    "print(min(7,5)) #두개 들어가면 이거중에서 최소를 찾아줌\n",
    "print(min(7,3,5,6)) #인자값들 중에서 제일 작은값\n",
    "r.shuffle(a) #랜덤으로 섞어봐라\n",
    "print(a)\n",
    "a.sort() #오름차순으로 됨\n",
    "print(a)\n",
    "a.sort(reverse=True) #내림차순 \n",
    "print(a)\n",
    "a.clear() #리스트 클리어한다. \n",
    "print(a)"
   ]
  },
  {
   "cell_type": "markdown",
   "id": "7a70364b",
   "metadata": {},
   "source": [
    "### 인덱스 가져오기 enumerate"
   ]
  },
  {
   "cell_type": "code",
   "execution_count": 12,
   "id": "1a655b3d",
   "metadata": {},
   "outputs": [
    {
     "name": "stdout",
     "output_type": "stream",
     "text": [
      "[23, 12, 36]\n",
      "[12, 36, 53]\n",
      "5\n",
      "23 12 36 53 19 \n",
      "23 12 36 53 19 \n",
      "(0, 23)\n",
      "(1, 12)\n",
      "(2, 36)\n",
      "(3, 53)\n",
      "(4, 19)\n",
      "1\n",
      "0 23\n",
      "1 12\n",
      "2 36\n",
      "3 53\n",
      "4 19\n",
      "\n",
      "0 23\n",
      "1 12\n",
      "2 36\n",
      "3 53\n",
      "4 19\n"
     ]
    }
   ],
   "source": [
    "a = [23,12,36,53,19]\n",
    "print(a[:3])\n",
    "print(a[1:4])\n",
    "print(len(a))\n",
    "for i in range(len(a)): #인덱스 가져오기 \n",
    "    print(a[i],end=' ') #인덱싱\n",
    "print()\n",
    "\n",
    "for x in a: #문자 그대로 받아오기\n",
    "    print(x,end=' ')\n",
    "print()\n",
    "for x in enumerate(a):\n",
    "    print(x) #튜플로 나옴 (인덱스,값) \n",
    "\n",
    "b = (1,2,3,4,5)\n",
    "print(b[0]) #리스트와 다른거? 튜플은 변경이 불가능하고 리스트는 변경이 가능하다\n",
    "\n",
    "for x in enumerate(a):\n",
    "    print(x[0],x[1])\n",
    "print()\n",
    "\n",
    "for index, value in enumerate(a):\n",
    "    print(index, value)"
   ]
  },
  {
   "cell_type": "markdown",
   "id": "1785b671",
   "metadata": {},
   "source": [
    "### all(), any()"
   ]
  },
  {
   "cell_type": "code",
   "execution_count": 21,
   "id": "e1f63089",
   "metadata": {},
   "outputs": [
    {
     "name": "stdout",
     "output_type": "stream",
     "text": [
      "False\n",
      "\n",
      "True\n",
      "\n",
      "False\n"
     ]
    }
   ],
   "source": [
    "if all(50>x for x in a): #이게 모두 참이 되면 참을 리턴함\n",
    "    print(\"True\")\n",
    "else:\n",
    "    print(\"False\")\n",
    "print()\n",
    "\n",
    "if any(50>x for x in a): #한개만 참이 되면 참을 리턴함, 모두다 아닐때만 false 출력한다\n",
    "    print(\"True\")\n",
    "else:\n",
    "    print(\"False\")\n",
    "print()\n",
    "\n",
    "if any(11>x for x in a): #한개만 참이 되면 참을 리턴함, 모두다 아닐때만 false 출력한다\n",
    "    print(\"True\")\n",
    "else:\n",
    "    print(\"False\")"
   ]
  }
 ],
 "metadata": {
  "kernelspec": {
   "display_name": "Python 3 (ipykernel)",
   "language": "python",
   "name": "python3"
  },
  "language_info": {
   "codemirror_mode": {
    "name": "ipython",
    "version": 3
   },
   "file_extension": ".py",
   "mimetype": "text/x-python",
   "name": "python",
   "nbconvert_exporter": "python",
   "pygments_lexer": "ipython3",
   "version": "3.9.12"
  }
 },
 "nbformat": 4,
 "nbformat_minor": 5
}
