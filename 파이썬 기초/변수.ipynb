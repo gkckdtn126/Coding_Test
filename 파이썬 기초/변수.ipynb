{
 "cells": [
  {
   "cell_type": "markdown",
   "id": "86111d34",
   "metadata": {},
   "source": [
    "### 변수: 데이터를 저장해놓는 곳\n",
    "### 변수명은 영문과 숫자 _로 이뤄진다\n",
    "### 대소문자를 구분한다\n",
    "### 문자나 _로 시작한다\n",
    "### 특수문자를 사용하면 안된다\n",
    "### if, for 같은거 키워드 사용하면 안된다. \n",
    "a = 1 \n",
    "a에 1을 대입한다. 변수 a에 1을 대입한다. "
   ]
  },
  {
   "cell_type": "markdown",
   "id": "fcb6ddf2",
   "metadata": {},
   "source": [
    "### 주석처리 한줄은 #이다 여러줄은 ''' ''' 따옴표 세개 "
   ]
  },
  {
   "cell_type": "code",
   "execution_count": 1,
   "id": "b74befc2",
   "metadata": {},
   "outputs": [
    {
     "name": "stdout",
     "output_type": "stream",
     "text": [
      "3 2 1\n"
     ]
    }
   ],
   "source": [
    "a, b , c = 3, 2, 1\n",
    "print(a,b,c)"
   ]
  },
  {
   "cell_type": "markdown",
   "id": "af42fc56",
   "metadata": {},
   "source": [
    "### 한번에 변수 같이 설정할 수 있다. 변수값을 새로 만들면 그전꺼는 지워지고 만들어진다. \n",
    "### 값 교환"
   ]
  },
  {
   "cell_type": "code",
   "execution_count": 2,
   "id": "4f80bb22",
   "metadata": {},
   "outputs": [
    {
     "name": "stdout",
     "output_type": "stream",
     "text": [
      "10 20\n",
      "20 10\n"
     ]
    }
   ],
   "source": [
    "a,b = 10, 20\n",
    "print(a,b)\n",
    "a, b = b , a\n",
    "print(a,b)"
   ]
  },
  {
   "cell_type": "markdown",
   "id": "7455bd5b",
   "metadata": {},
   "source": [
    "### 변수 타입\n",
    "a = 1,2,3,4,5 이거는 정수형 int "
   ]
  },
  {
   "cell_type": "code",
   "execution_count": 3,
   "id": "c2c5570b",
   "metadata": {},
   "outputs": [
    {
     "name": "stdout",
     "output_type": "stream",
     "text": [
      "<class 'int'>\n"
     ]
    }
   ],
   "source": [
    "a = 12345\n",
    "print(type(a))"
   ]
  },
  {
   "cell_type": "markdown",
   "id": "e11c719a",
   "metadata": {},
   "source": [
    "### 실수형"
   ]
  },
  {
   "cell_type": "code",
   "execution_count": 8,
   "id": "bfec5b7c",
   "metadata": {},
   "outputs": [
    {
     "name": "stdout",
     "output_type": "stream",
     "text": [
      "12.334112323232343\n",
      "<class 'float'>\n"
     ]
    }
   ],
   "source": [
    "a = 12.3341123232323432151325132512412\n",
    "# 8바이트를 넘어가면 손실된다. \n",
    "print(a)\n",
    "print(type(a))"
   ]
  },
  {
   "cell_type": "markdown",
   "id": "ed716d11",
   "metadata": {},
   "source": [
    "### 스티링 형 "
   ]
  },
  {
   "cell_type": "code",
   "execution_count": 9,
   "id": "4f5439b0",
   "metadata": {},
   "outputs": [
    {
     "name": "stdout",
     "output_type": "stream",
     "text": [
      "<class 'str'>\n"
     ]
    }
   ],
   "source": [
    "a = 'student'\n",
    "print(type(a))\n"
   ]
  },
  {
   "cell_type": "markdown",
   "id": "930bd46b",
   "metadata": {},
   "source": [
    "# 출력방식"
   ]
  },
  {
   "cell_type": "code",
   "execution_count": 1,
   "id": "1b563da6",
   "metadata": {},
   "outputs": [
    {
     "name": "stdout",
     "output_type": "stream",
     "text": [
      "number\n",
      "1 2 3\n",
      "number 1 2 3\n",
      "1 2 3\n",
      "1,2,3\n",
      "1\n",
      "2\n",
      "3\n",
      "123\n",
      "1,23"
     ]
    }
   ],
   "source": [
    "print(\"number\")\n",
    "a,b,c = 1,2,3\n",
    "print(a,b,c)\n",
    "print(\"number\",a,b,c)\n",
    "print(a,b,c)\n",
    "print(a,b,c,sep=',')\n",
    "print(a,b,c,sep='\\n')\n",
    "print(a,b,c,sep='')\n",
    "#줄바꿈을 하기 싫다 end를 쓰면 된다. \n",
    "print(a, end=',')\n",
    "print(b, end='')\n",
    "print(c, end='')\n",
    "#sep는 쉼표로 띄어쓰기 해라 하는 것 "
   ]
  },
  {
   "cell_type": "code",
   "execution_count": null,
   "id": "f768da18",
   "metadata": {},
   "outputs": [],
   "source": []
  }
 ],
 "metadata": {
  "kernelspec": {
   "display_name": "Python 3 (ipykernel)",
   "language": "python",
   "name": "python3"
  },
  "language_info": {
   "codemirror_mode": {
    "name": "ipython",
    "version": 3
   },
   "file_extension": ".py",
   "mimetype": "text/x-python",
   "name": "python",
   "nbconvert_exporter": "python",
   "pygments_lexer": "ipython3",
   "version": "3.9.13"
  }
 },
 "nbformat": 4,
 "nbformat_minor": 5
}
